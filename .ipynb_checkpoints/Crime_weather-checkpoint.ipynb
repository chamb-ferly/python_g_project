{
 "cells": [
  {
   "cell_type": "code",
   "execution_count": 1,
   "metadata": {},
   "outputs": [],
   "source": [
    "import pandas as pd\n",
    "from citipy import citipy\n",
    "import numpy as np\n",
    "import csv\n",
    "from datetime import datetime as dt, timedelta\n",
    "import json\n",
    "from pandas.io.json import json_normalize\n",
    "\n",
    "#import data\n",
    "weather = pd.read_json(\"ow.json\") #1/1/2013-1/1/2020 hourly weather data\n",
    "crime = pd.read_csv(\"crime.csv\")"
   ]
  },
  {
   "cell_type": "code",
   "execution_count": 2,
   "metadata": {},
   "outputs": [],
   "source": [
    "drop_list = ['GEO_X', 'GEO_Y', 'DISTRICT_ID', \n",
    "             'REPORTED_DATE', 'LAST_OCCURRENCE_DATE',\n",
    "            'INCIDENT_ID', 'OFFENSE_ID', 'OFFENSE_CODE_EXTENSION']\n",
    "crime.drop(columns=drop_list, inplace=True)\n",
    "\n"
   ]
  },
  {
   "cell_type": "code",
   "execution_count": 3,
   "metadata": {},
   "outputs": [],
   "source": [
    "crime = crime.rename(columns = {'OFFENSE_CODE':'Code', \n",
    "                               'OFFENSE_TYPE_ID':'Offense_Type', \n",
    "                               'INCIDENT_ADDRESS':'Address', \n",
    "                               'GEO_LON':'Lon',\n",
    "                               'GEO_LAT':'Lat', \n",
    "                               'PRECINCT_ID':'Precint', \n",
    "                               'NEIGHBORHOOD_ID':'Neighborhood'})"
   ]
  },
  {
   "cell_type": "code",
   "execution_count": null,
   "metadata": {},
   "outputs": [],
   "source": [
    "#expand list from columns into new databases\n",
    "weather_temp = (json_normalize(weather['main']))\n",
    "weather_wind = json_normalize(weather['wind'])\n",
    "weather_clouds = json_normalize(weather['clouds'])\n"
   ]
  },
  {
   "cell_type": "code",
   "execution_count": null,
   "metadata": {},
   "outputs": [],
   "source": [
    "#create new columns for desired fields from expanded list\n",
    "weather_temp.head()\n",
    "weather['Temp'] = weather_temp['temp']\n",
    "weather['Temp Max'] = weather_temp['temp_max']\n",
    "weather['Wind'] = weather_wind.speed\n",
    "weather['Clouds'] = weather_clouds\n",
    "#split date iso into columns, then delete unwanted columns \n",
    "weather[['Date','Hour', 'Trash', 'Trash2']] = weather.dt_iso.str.split(expand=True)\n",
    "columns = ['wind', 'clouds', 'weather','main', 'timezone', 'snow', 'rain', 'dt', 'Trash', 'Trash2', 'dt_iso']\n",
    "weather.drop(columns=columns, inplace=True)\n"
   ]
  },
  {
   "cell_type": "code",
   "execution_count": null,
   "metadata": {},
   "outputs": [],
   "source": [
    "#create dataframe for speends over 40mph \n",
    "wind_df = weather.loc[weather.Wind > 40]\n",
    "wind_df\n",
    "weather['Date & Time'] = weather['Date'] + ' ' + weather['Hour']\n",
    "weather['Date & Time'] = weather['Date & Time'].astype('datetime64[ns]')\n",
    "weather = weather.drop(columns =['Date', 'Hour'])\n"
   ]
  },
  {
   "cell_type": "code",
   "execution_count": null,
   "metadata": {},
   "outputs": [],
   "source": [
    "#create dataframe for temps under 10f \n",
    "cold_df = weather.loc[weather['Temp Max'] < 10]\n"
   ]
  },
  {
   "cell_type": "code",
   "execution_count": null,
   "metadata": {},
   "outputs": [],
   "source": [
    "crime['Date'] = pd.to_datetime(crime['FIRST_OCCURRENCE_DATE'])\n"
   ]
  },
  {
   "cell_type": "code",
   "execution_count": null,
   "metadata": {},
   "outputs": [],
   "source": [
    "crime.head()\n",
    "crime.drop(columns=['FIRST_OCCURRENCE_DATE'], inplace=True)"
   ]
  },
  {
   "cell_type": "code",
   "execution_count": null,
   "metadata": {},
   "outputs": [],
   "source": [
    "# df = pd.DataFrame([{'old_column':pd.Timestamp('2015-07-18 13:53:33.280')}])\n",
    "crime['Date'] = crime['Date'].dt.round('60min')\n",
    "crime"
   ]
  },
  {
   "cell_type": "code",
   "execution_count": null,
   "metadata": {},
   "outputs": [],
   "source": [
    "weather.head()\n",
    "weather = weather.rename(columns = {'Date & Time':'Date'})\n",
    "weather"
   ]
  },
  {
   "cell_type": "code",
   "execution_count": null,
   "metadata": {},
   "outputs": [],
   "source": [
    "crime_weather = pd.merge(crime, weather, on='Date', how='left')\n"
   ]
  },
  {
   "cell_type": "code",
   "execution_count": null,
   "metadata": {},
   "outputs": [],
   "source": [
    "crime_weather.to_csv('crime_weather.csv')"
   ]
  },
  {
   "cell_type": "code",
   "execution_count": null,
   "metadata": {},
   "outputs": [],
   "source": []
  }
 ],
 "metadata": {
  "kernelspec": {
   "display_name": "Python 3",
   "language": "python",
   "name": "python3"
  },
  "language_info": {
   "codemirror_mode": {
    "name": "ipython",
    "version": 3
   },
   "file_extension": ".py",
   "mimetype": "text/x-python",
   "name": "python",
   "nbconvert_exporter": "python",
   "pygments_lexer": "ipython3",
   "version": "3.7.4"
  }
 },
 "nbformat": 4,
 "nbformat_minor": 2
}
