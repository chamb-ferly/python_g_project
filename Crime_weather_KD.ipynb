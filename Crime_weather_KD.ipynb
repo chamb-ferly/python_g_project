{
 "cells": [
  {
   "cell_type": "code",
   "execution_count": 101,
   "metadata": {},
   "outputs": [],
   "source": [
    "import pandas as pd\n",
    "from citipy import citipy\n",
    "import numpy as np\n",
    "import csv\n",
    "from datetime import datetime as dt, timedelta\n",
    "import json\n",
    "from pandas.io.json import json_normalize\n",
    "import matplotlib.pyplot as plt\n",
    "import gmaps \n",
    "from config import gkey\n",
    "\n",
    "\n",
    "#import data\n",
    "weather = pd.read_json(\"ow.json\") #1/1/2013-1/1/2020 hourly weather data\n",
    "crime = pd.read_csv(\"../../crime.csv\")"
   ]
  },
  {
   "cell_type": "code",
   "execution_count": 102,
   "metadata": {},
   "outputs": [],
   "source": [
    "#Drop unneeded columns\n",
    "drop_list = ['GEO_X', 'GEO_Y', 'DISTRICT_ID', \n",
    "             'REPORTED_DATE', 'LAST_OCCURRENCE_DATE',\n",
    "            'INCIDENT_ID', 'OFFENSE_ID', 'OFFENSE_CODE_EXTENSION']\n",
    "crime.drop(columns=drop_list, inplace=True)\n",
    "\n"
   ]
  },
  {
   "cell_type": "code",
   "execution_count": 103,
   "metadata": {},
   "outputs": [],
   "source": [
    "#Clean up column names\n",
    "crime = crime.rename(columns = {'OFFENSE_CODE':'Code', \n",
    "                               'OFFENSE_TYPE_ID':'Offense_Type', \n",
    "                               'INCIDENT_ADDRESS':'Address', \n",
    "                               'GEO_LON':'Lon',\n",
    "                               'GEO_LAT':'Lat', \n",
    "                               'PRECINCT_ID':'Precint', \n",
    "                               'NEIGHBORHOOD_ID':'Neighborhood'})\n",
    "\n",
    "# remove incorrect lat longs skewing data\n",
    "crime = crime[crime[\"Lon\"] <= -104.2]\n",
    "crime = crime[crime[\"Lon\"] >= -105.5]\n",
    "crime = crime[crime[\"Lat\"] >= 39.5]\n",
    "crime = crime[crime[\"Lat\"] <= 40.0]"
   ]
  },
  {
   "cell_type": "code",
   "execution_count": 104,
   "metadata": {},
   "outputs": [],
   "source": [
    "#expand list from columns into new databases\n",
    "weather_temp = (json_normalize(weather['main']))\n",
    "weather_wind = json_normalize(weather['wind'])\n",
    "weather_clouds = json_normalize(weather['clouds'])\n"
   ]
  },
  {
   "cell_type": "code",
   "execution_count": 105,
   "metadata": {},
   "outputs": [],
   "source": [
    "#create new columns for desired fields from expanded list\n",
    "weather_temp.head()\n",
    "weather['Temp'] = weather_temp['temp']\n",
    "weather['Temp Max'] = weather_temp['temp_max']\n",
    "weather['Wind'] = weather_wind.speed\n",
    "weather['Clouds'] = weather_clouds\n",
    "\n",
    "#early round about way of cleaning up date\n",
    "#split date iso into columns, then delete unwanted columns \n",
    "weather[['Date','Hour', 'Trash', 'Trash2']] = weather.dt_iso.str.split(expand=True)\n",
    "columns = ['wind', 'clouds', 'weather','main', 'timezone', 'snow', 'rain', 'dt', 'Trash', 'Trash2', 'dt_iso', 'lat', 'lon']\n",
    "weather.drop(columns=columns, inplace=True)\n",
    "weather['Date & Time'] = weather['Date'] + ' ' + weather['Hour']\n",
    "weather['Date & Time'] = weather['Date & Time'].astype('datetime64[ns]')\n",
    "weather = weather.drop(columns =['Date', 'Hour'])\n",
    "weather = weather.rename(columns = {'Date & Time':'Date'})"
   ]
  },
  {
   "cell_type": "code",
   "execution_count": 106,
   "metadata": {},
   "outputs": [],
   "source": [
    "crime['Date'] = pd.to_datetime(crime['FIRST_OCCURRENCE_DATE'])\n",
    "crime.drop(columns=['FIRST_OCCURRENCE_DATE'], inplace=True)\n",
    "crime['Date'] = crime['Date'].dt.round('60min')\n"
   ]
  },
  {
   "cell_type": "code",
   "execution_count": 107,
   "metadata": {},
   "outputs": [],
   "source": [
    "#merge crime and weather data\n",
    "crime_weather = pd.merge(crime, weather, on='Date', how='left')\n"
   ]
  },
  {
   "cell_type": "code",
   "execution_count": 108,
   "metadata": {},
   "outputs": [
    {
     "name": "stdout",
     "output_type": "stream",
     "text": [
      ".........................................\n",
      "Burglary/Theft            137443\n",
      "Traffic Accident          120249\n",
      "Public Disorder            46520\n",
      "Drug/Alcohol               29436\n",
      "Crimes Against Persons     22754\n",
      "Aggravated Assault         11330\n",
      "White Collar Crime          6408\n",
      "Arson                        547\n",
      "Murder                       300\n",
      "Name: OFFENSE_CATEGORY_ID, dtype: int64\n"
     ]
    }
   ],
   "source": [
    "#clean up crim offense categories\n",
    "crime_weather = crime_weather[crime_weather[\"OFFENSE_CATEGORY_ID\"] != 'all-other-crimes']\n",
    "\n",
    "crime_weather['OFFENSE_CATEGORY_ID'] = crime_weather['OFFENSE_CATEGORY_ID'].replace(\n",
    "    {'traffic-accident': 'Traffic Accident', \n",
    "     'larceny': 'Burglary/Theft', \n",
    "     'public-disorder': 'Public Disorder', \n",
    "     'theft-from-motor-vehicle': 'Burglary/Theft', \n",
    "     'drug-alcohol': 'Drug/Alcohol', \n",
    "     'auto-theft': 'Burglary/Theft', \n",
    "     'burglary': 'Burglary/Theft', \n",
    "     'other-crimes-against-persons': 'Crimes Against Persons', \n",
    "     'aggravated-assault': 'Aggravated Assault', \n",
    "     'white-collar-crime': 'White Collar Crime',  \n",
    "     'robbery': 'Burglary/Theft', \n",
    "     'arson': 'Arson', \n",
    "     'murder': 'Murder'})\n",
    "print(\".........................................\")\n",
    "print(crime_weather[\"OFFENSE_CATEGORY_ID\"].value_counts())"
   ]
  },
  {
   "cell_type": "code",
   "execution_count": 109,
   "metadata": {},
   "outputs": [],
   "source": [
    "#write new master database to csv\n",
    "crime_weather.to_csv('crime_weather.csv')"
   ]
  },
  {
   "cell_type": "code",
   "execution_count": 110,
   "metadata": {},
   "outputs": [],
   "source": [
    "#seperate data into crime dataframe and traffic datafram\n",
    "is_crime = crime_weather.loc[crime_weather['IS_CRIME'] == 1]\n",
    "is_traffic = crime_weather.loc[crime_weather['IS_TRAFFIC'] == 1]\n",
    "\n",
    "#drop dates from weather for before earliest crime data entry\n",
    "#use this dataframe to standardize data\n",
    "weather = weather.loc[weather['Date'] > '2015-01-02 00:00:00']\n"
   ]
  },
  {
   "cell_type": "code",
   "execution_count": 111,
   "metadata": {},
   "outputs": [
    {
     "name": "stderr",
     "output_type": "stream",
     "text": [
      "C:\\Users\\Deepak\\Anaconda\\envs\\PythonData\\lib\\site-packages\\ipykernel_launcher.py:4: SettingWithCopyWarning: \n",
      "A value is trying to be set on a copy of a slice from a DataFrame.\n",
      "Try using .loc[row_indexer,col_indexer] = value instead\n",
      "\n",
      "See the caveats in the documentation: http://pandas.pydata.org/pandas-docs/stable/user_guide/indexing.html#returning-a-view-versus-a-copy\n",
      "  after removing the cwd from sys.path.\n",
      "C:\\Users\\Deepak\\Anaconda\\envs\\PythonData\\lib\\site-packages\\ipykernel_launcher.py:5: SettingWithCopyWarning: \n",
      "A value is trying to be set on a copy of a slice from a DataFrame.\n",
      "Try using .loc[row_indexer,col_indexer] = value instead\n",
      "\n",
      "See the caveats in the documentation: http://pandas.pydata.org/pandas-docs/stable/user_guide/indexing.html#returning-a-view-versus-a-copy\n",
      "  \"\"\"\n"
     ]
    }
   ],
   "source": [
    "#bin crime, traffic and weather data \n",
    "bins = [-10, 0, 10, 20, 30, 40, 50, 60, 70, 80, 90, 100, 110]\n",
    "groups = ['-10-0', '0-10', '10-20', '20-30', '30-40', '40-50', '50-60', '60-70', '70-80', '80-90', '90-100', '100-110']\n",
    "is_crime['Temp Range'] = pd.cut(is_crime[\"Temp\"], bins, labels=groups)\n",
    "is_traffic['Temp Range'] = pd.cut(is_traffic[\"Temp\"], bins, labels=groups)\n",
    "weather['Temp Range'] = pd.cut(weather[\"Temp\"].round(), bins, labels=groups)\n",
    "\n",
    "#set new index and drop na\n",
    "is_crime.set_index('Temp Range', inplace=True)\n",
    "is_traffic.set_index('Temp Range', inplace=True)\n",
    "weather.set_index('Temp Range', inplace=True)\n",
    "weather.sort_index(inplace=True)\n",
    "weather.dropna(inplace=True)"
   ]
  },
  {
   "cell_type": "code",
   "execution_count": 112,
   "metadata": {},
   "outputs": [],
   "source": [
    "#groupby Neighborhood and set weight for heatmap = count of crimes within neighboorhood\n",
    "groupn_mean_df = crime_weather.groupby(\"Neighborhood\").mean()\n",
    "count  = crime_weather.groupby(\"Neighborhood\").count()['IS_CRIME'].astype(float)\n",
    "\n",
    "#set locations equal to neighborhood lat and lon\n",
    "locations = groupn_mean_df[[\"Lat\", \"Lon\"]].astype(float)"
   ]
  },
  {
   "cell_type": "code",
   "execution_count": 113,
   "metadata": {},
   "outputs": [
    {
     "data": {
      "application/vnd.jupyter.widget-view+json": {
       "model_id": "a9f422e1ba564c8ebe03824535b8978d",
       "version_major": 2,
       "version_minor": 0
      },
      "text/plain": [
       "Figure(layout=FigureLayout(height='420px'))"
      ]
     },
     "metadata": {},
     "output_type": "display_data"
    }
   ],
   "source": [
    "#map crime in denver\n",
    "gmaps.configure(api_key=gkey)\n",
    "fig = gmaps.figure()\n",
    "heat_layer = gmaps.heatmap_layer(locations, weights=count, max_intensity=10000,\n",
    "                                 point_radius = 15)\n",
    "fig.add_layer(heat_layer)\n",
    "fig"
   ]
  },
  {
   "cell_type": "code",
   "execution_count": 114,
   "metadata": {},
   "outputs": [],
   "source": [
    "##standardize data \n",
    "\n",
    "Ctemp_Plot = is_crime.groupby('Temp Range').count()\n",
    "Ttemp_Plot = is_traffic.groupby('Temp Range').count()\n",
    "weather_Count = weather.groupby('Temp Range').count()\n",
    "#Ctemp_Plot = Ctemp_Plot.drop('100-110')\n",
    "#Ttemp_Plot = Ttemp_Plot.drop('100-110')\n",
    "Cstandardize = Ctemp_Plot['Code'] / weather_Count['Temp']\n",
    "Tstandardize = Ttemp_Plot['Code'] / weather_Count['Temp']"
   ]
  },
  {
   "cell_type": "code",
   "execution_count": 115,
   "metadata": {},
   "outputs": [
    {
     "data": {
      "image/png": "[encoded data removed]",
      "text/plain": [
       "<Figure size 432x288 with 1 Axes>"
      ]
     },
     "metadata": {
      "needs_background": "light"
     },
     "output_type": "display_data"
    },
    {
     "data": {
      "text/plain": [
       "<Figure size 432x288 with 0 Axes>"
      ]
     },
     "metadata": {},
     "output_type": "display_data"
    }
   ],
   "source": [
    "#create bar chart containing crime and traffic by temp\n",
    "fig, ax = plt.subplots()\n",
    "bar_width = 0.35\n",
    "opacity = 0.8\n",
    "\n",
    "crime = plt.bar(Cstandardize.index, Cstandardize, bar_width,\n",
    "alpha=opacity,\n",
    "color='b',\n",
    "label='Crime')\n",
    "\n",
    "traffic = plt.bar(Tstandardize.index, Tstandardize, bar_width,\n",
    "alpha=opacity,\n",
    "color='g',\n",
    "label='Traffic')\n",
    "\n",
    "plt.xlabel('Temp Range F')\n",
    "plt.ylabel('Standardized Scores')\n",
    "plt.title('Crime and Traffic by Temperature')\n",
    "plt.xticks(rotation = '45')\n",
    "plt.yticks(range(0,12))\n",
    "plt.legend(loc='upper left')\n",
    "\n",
    "plt.tight_layout()\n",
    "plt.show()\n",
    "\n",
    "#save to png\n",
    "plt.savefig(\"crime and traffic temp.png\")"
   ]
  },
  {
   "cell_type": "code",
   "execution_count": 116,
   "metadata": {},
   "outputs": [
    {
     "name": "stderr",
     "output_type": "stream",
     "text": [
      "C:\\Users\\Deepak\\Anaconda\\envs\\PythonData\\lib\\site-packages\\ipykernel_launcher.py:4: SettingWithCopyWarning: \n",
      "A value is trying to be set on a copy of a slice from a DataFrame.\n",
      "Try using .loc[row_indexer,col_indexer] = value instead\n",
      "\n",
      "See the caveats in the documentation: http://pandas.pydata.org/pandas-docs/stable/user_guide/indexing.html#returning-a-view-versus-a-copy\n",
      "  after removing the cwd from sys.path.\n",
      "C:\\Users\\Deepak\\Anaconda\\envs\\PythonData\\lib\\site-packages\\ipykernel_launcher.py:8: SettingWithCopyWarning: \n",
      "A value is trying to be set on a copy of a slice from a DataFrame.\n",
      "Try using .loc[row_indexer,col_indexer] = value instead\n",
      "\n",
      "See the caveats in the documentation: http://pandas.pydata.org/pandas-docs/stable/user_guide/indexing.html#returning-a-view-versus-a-copy\n",
      "  \n"
     ]
    }
   ],
   "source": [
    "#create bins for Wind Ranges for Weather, Crime and traffic databases\n",
    "bins = [0, 10, 20, 30, 40, 51]\n",
    "groups = ['0-10', '10-20', '20-30', '30-40', '40-50']\n",
    "is_crime['Wind Range'] = pd.cut(is_crime[\"Wind\"].round(), bins, labels=groups)\n",
    "\n",
    "bins = [0, 10, 20, 30, 40, 51]\n",
    "groups = ['0-10', '10-20', '20-30', '30-40', '40-50']\n",
    "is_traffic['Wind Range'] = pd.cut(is_traffic[\"Wind\"].round(), bins, labels=groups)\n",
    "\n",
    "bins = [0, 10, 20, 30, 40, 51]\n",
    "groups = ['0-10', '10-20', '20-30', '30-40', '40-50']\n",
    "weather['Wind Range'] = pd.cut(weather[\"Wind\"].round(), bins, labels=groups)\n"
   ]
  },
  {
   "cell_type": "code",
   "execution_count": 117,
   "metadata": {},
   "outputs": [],
   "source": [
    "#set new index to Wind Range\n",
    "is_crime = is_crime.set_index('Wind Range')\n",
    "weather = weather.set_index('Wind Range')\n",
    "is_traffic = is_traffic.set_index('Wind Range')"
   ]
  },
  {
   "cell_type": "code",
   "execution_count": 118,
   "metadata": {},
   "outputs": [],
   "source": [
    "#set variables and standardize data\n",
    "Cwind_Count = is_crime.groupby('Wind Range').count()\n",
    "Wwind_Count = weather.groupby('Wind Range').count()\n",
    "Cwind_stand = Cwind_Count['Temp'] / Wwind_Count['Temp']\n",
    "\n",
    "Twind_Count = is_traffic.groupby('Wind Range').count()\n",
    "Twind_stand = Twind_Count['Temp'] / Wwind_Count['Temp']"
   ]
  },
  {
   "cell_type": "code",
   "execution_count": 119,
   "metadata": {},
   "outputs": [
    {
     "data": {
      "image/png": "[encoded data removed]",
      "text/plain": [
       "<Figure size 432x288 with 1 Axes>"
      ]
     },
     "metadata": {
      "needs_background": "light"
     },
     "output_type": "display_data"
    },
    {
     "data": {
      "text/plain": [
       "<Figure size 432x288 with 0 Axes>"
      ]
     },
     "metadata": {},
     "output_type": "display_data"
    }
   ],
   "source": [
    "#bar chart crime and traffic by wind\n",
    "fig, ax = plt.subplots()\n",
    "bar_width = 0.35\n",
    "opacity = 0.8\n",
    "\n",
    "crime = plt.bar(Cwind_stand.index, Cwind_stand, bar_width,\n",
    "alpha=opacity,\n",
    "color='b',\n",
    "label='Crime')\n",
    "\n",
    "traffic = plt.bar(Twind_stand.index, Twind_stand, bar_width,\n",
    "alpha=opacity,\n",
    "color='g',\n",
    "label='Traffic')\n",
    "\n",
    "plt.xlabel('Wind Speeds mph')\n",
    "plt.ylabel('Standardized Scores')\n",
    "plt.title('Crime and Traffic by Wind Speed')\n",
    "plt.xticks(rotation = '45')\n",
    "plt.legend()\n",
    "\n",
    "plt.tight_layout()\n",
    "plt.show()\n",
    "\n",
    "#save fig to png\n",
    "plt.savefig(\"crime and traffic wind.png\")"
   ]
  },
  {
   "cell_type": "code",
   "execution_count": 120,
   "metadata": {},
   "outputs": [],
   "source": [
    "is_crime.reset_index(inplace = True) \n",
    "weather.reset_index(inplace = True) "
   ]
  },
  {
   "cell_type": "code",
   "execution_count": 121,
   "metadata": {},
   "outputs": [],
   "source": [
    "#isolate seasons, needs more work\n",
    "years = ['2016', '2017', '2018', '2019']\n",
    "summer1C = is_crime.loc[(is_crime['Date'] > '2015-06-01 00:00:00') & (is_crime['Date'] < '2015-09-01 00:00:00')]\n",
    "#winter15 = is_crime.loc[(is_crime['Date'] > '2015-12-01 00:00:00') & (is_crime['Date'] < '2015-03-01 00:00:00')]\n",
    "fall1C = is_crime.loc[(is_crime['Date'] > '2015-09-02 00:00:00') & (is_crime['Date'] < '2015-11-30 00:00:00')]\n",
    "spring1C = is_crime.loc[(is_crime['Date'] > '2015-03-02 00:00:00') & (is_crime['Date'] < '2015-06-01 00:00:00')]\n",
    "\n",
    "for year in years:\n",
    "    summer = is_crime.loc[(is_crime['Date'] > year + '-06-01 00:00:00') & (is_crime['Date'] < year +'-09-01 00:00:00')]\n",
    "    fall = is_crime.loc[(is_crime['Date'] > year + '-09-02 00:00:00') & (is_crime['Date'] < year + '-11-30 00:00:00')]\n",
    "    spring = is_crime.loc[(is_crime['Date'] > year + '-03-02 00:00:00') & (is_crime['Date'] < year + '-06-01 00:00:00')]\n",
    "    summer1C.merge(summer,  how='outer')\n",
    "    spring1C.merge(spring, how='outer')\n",
    "    fall1C.merge(fall, how='outer')\n",
    "  "
   ]
  },
  {
   "cell_type": "code",
   "execution_count": 122,
   "metadata": {},
   "outputs": [
    {
     "ename": "KeyError",
     "evalue": "'Temp Range'",
     "output_type": "error",
     "traceback": [
      "\u001b[1;31m---------------------------------------------------------------------------\u001b[0m",
      "\u001b[1;31mKeyError\u001b[0m                                  Traceback (most recent call last)",
      "\u001b[1;32m<ipython-input-122-210554651923>\u001b[0m in \u001b[0;36m<module>\u001b[1;34m\u001b[0m\n\u001b[0;32m      1\u001b[0m \u001b[1;31m##standardize data for seasons\u001b[0m\u001b[1;33m\u001b[0m\u001b[1;33m\u001b[0m\u001b[1;33m\u001b[0m\u001b[0m\n\u001b[1;32m----> 2\u001b[1;33m \u001b[0mCStemp_Plot\u001b[0m \u001b[1;33m=\u001b[0m \u001b[0msummer1C\u001b[0m\u001b[1;33m.\u001b[0m\u001b[0mgroupby\u001b[0m\u001b[1;33m(\u001b[0m\u001b[1;34m'Temp Range'\u001b[0m\u001b[1;33m)\u001b[0m\u001b[1;33m.\u001b[0m\u001b[0mcount\u001b[0m\u001b[1;33m(\u001b[0m\u001b[1;33m)\u001b[0m\u001b[1;33m\u001b[0m\u001b[1;33m\u001b[0m\u001b[0m\n\u001b[0m\u001b[0;32m      3\u001b[0m \u001b[0mCFtemp_Plot\u001b[0m \u001b[1;33m=\u001b[0m \u001b[0mfall1C\u001b[0m\u001b[1;33m.\u001b[0m\u001b[0mgroupby\u001b[0m\u001b[1;33m(\u001b[0m\u001b[1;34m'Temp Range'\u001b[0m\u001b[1;33m)\u001b[0m\u001b[1;33m.\u001b[0m\u001b[0mcount\u001b[0m\u001b[1;33m(\u001b[0m\u001b[1;33m)\u001b[0m\u001b[1;33m\u001b[0m\u001b[1;33m\u001b[0m\u001b[0m\n\u001b[0;32m      4\u001b[0m \u001b[0mCSptemp_Plot\u001b[0m \u001b[1;33m=\u001b[0m \u001b[0mspring1C\u001b[0m\u001b[1;33m.\u001b[0m\u001b[0mgroupby\u001b[0m\u001b[1;33m(\u001b[0m\u001b[1;34m'Temp Range'\u001b[0m\u001b[1;33m)\u001b[0m\u001b[1;33m.\u001b[0m\u001b[0mcount\u001b[0m\u001b[1;33m(\u001b[0m\u001b[1;33m)\u001b[0m\u001b[1;33m\u001b[0m\u001b[1;33m\u001b[0m\u001b[0m\n\u001b[0;32m      5\u001b[0m \u001b[1;33m\u001b[0m\u001b[0m\n",
      "\u001b[1;32m~\\Anaconda\\envs\\PythonData\\lib\\site-packages\\pandas\\core\\generic.py\u001b[0m in \u001b[0;36mgroupby\u001b[1;34m(self, by, axis, level, as_index, sort, group_keys, squeeze, observed, **kwargs)\u001b[0m\n\u001b[0;32m   7892\u001b[0m             \u001b[0msqueeze\u001b[0m\u001b[1;33m=\u001b[0m\u001b[0msqueeze\u001b[0m\u001b[1;33m,\u001b[0m\u001b[1;33m\u001b[0m\u001b[1;33m\u001b[0m\u001b[0m\n\u001b[0;32m   7893\u001b[0m             \u001b[0mobserved\u001b[0m\u001b[1;33m=\u001b[0m\u001b[0mobserved\u001b[0m\u001b[1;33m,\u001b[0m\u001b[1;33m\u001b[0m\u001b[1;33m\u001b[0m\u001b[0m\n\u001b[1;32m-> 7894\u001b[1;33m             \u001b[1;33m**\u001b[0m\u001b[0mkwargs\u001b[0m\u001b[1;33m\u001b[0m\u001b[1;33m\u001b[0m\u001b[0m\n\u001b[0m\u001b[0;32m   7895\u001b[0m         )\n\u001b[0;32m   7896\u001b[0m \u001b[1;33m\u001b[0m\u001b[0m\n",
      "\u001b[1;32m~\\Anaconda\\envs\\PythonData\\lib\\site-packages\\pandas\\core\\groupby\\groupby.py\u001b[0m in \u001b[0;36mgroupby\u001b[1;34m(obj, by, **kwds)\u001b[0m\n\u001b[0;32m   2520\u001b[0m         \u001b[1;32mraise\u001b[0m \u001b[0mTypeError\u001b[0m\u001b[1;33m(\u001b[0m\u001b[1;34m\"invalid type: {}\"\u001b[0m\u001b[1;33m.\u001b[0m\u001b[0mformat\u001b[0m\u001b[1;33m(\u001b[0m\u001b[0mobj\u001b[0m\u001b[1;33m)\u001b[0m\u001b[1;33m)\u001b[0m\u001b[1;33m\u001b[0m\u001b[1;33m\u001b[0m\u001b[0m\n\u001b[0;32m   2521\u001b[0m \u001b[1;33m\u001b[0m\u001b[0m\n\u001b[1;32m-> 2522\u001b[1;33m     \u001b[1;32mreturn\u001b[0m \u001b[0mklass\u001b[0m\u001b[1;33m(\u001b[0m\u001b[0mobj\u001b[0m\u001b[1;33m,\u001b[0m \u001b[0mby\u001b[0m\u001b[1;33m,\u001b[0m \u001b[1;33m**\u001b[0m\u001b[0mkwds\u001b[0m\u001b[1;33m)\u001b[0m\u001b[1;33m\u001b[0m\u001b[1;33m\u001b[0m\u001b[0m\n\u001b[0m",
      "\u001b[1;32m~\\Anaconda\\envs\\PythonData\\lib\\site-packages\\pandas\\core\\groupby\\groupby.py\u001b[0m in \u001b[0;36m__init__\u001b[1;34m(self, obj, keys, axis, level, grouper, exclusions, selection, as_index, sort, group_keys, squeeze, observed, **kwargs)\u001b[0m\n\u001b[0;32m    389\u001b[0m                 \u001b[0msort\u001b[0m\u001b[1;33m=\u001b[0m\u001b[0msort\u001b[0m\u001b[1;33m,\u001b[0m\u001b[1;33m\u001b[0m\u001b[1;33m\u001b[0m\u001b[0m\n\u001b[0;32m    390\u001b[0m                 \u001b[0mobserved\u001b[0m\u001b[1;33m=\u001b[0m\u001b[0mobserved\u001b[0m\u001b[1;33m,\u001b[0m\u001b[1;33m\u001b[0m\u001b[1;33m\u001b[0m\u001b[0m\n\u001b[1;32m--> 391\u001b[1;33m                 \u001b[0mmutated\u001b[0m\u001b[1;33m=\u001b[0m\u001b[0mself\u001b[0m\u001b[1;33m.\u001b[0m\u001b[0mmutated\u001b[0m\u001b[1;33m,\u001b[0m\u001b[1;33m\u001b[0m\u001b[1;33m\u001b[0m\u001b[0m\n\u001b[0m\u001b[0;32m    392\u001b[0m             )\n\u001b[0;32m    393\u001b[0m \u001b[1;33m\u001b[0m\u001b[0m\n",
      "\u001b[1;32m~\\Anaconda\\envs\\PythonData\\lib\\site-packages\\pandas\\core\\groupby\\grouper.py\u001b[0m in \u001b[0;36m_get_grouper\u001b[1;34m(obj, key, axis, level, sort, observed, mutated, validate)\u001b[0m\n\u001b[0;32m    619\u001b[0m                 \u001b[0min_axis\u001b[0m\u001b[1;33m,\u001b[0m \u001b[0mname\u001b[0m\u001b[1;33m,\u001b[0m \u001b[0mlevel\u001b[0m\u001b[1;33m,\u001b[0m \u001b[0mgpr\u001b[0m \u001b[1;33m=\u001b[0m \u001b[1;32mFalse\u001b[0m\u001b[1;33m,\u001b[0m \u001b[1;32mNone\u001b[0m\u001b[1;33m,\u001b[0m \u001b[0mgpr\u001b[0m\u001b[1;33m,\u001b[0m \u001b[1;32mNone\u001b[0m\u001b[1;33m\u001b[0m\u001b[1;33m\u001b[0m\u001b[0m\n\u001b[0;32m    620\u001b[0m             \u001b[1;32melse\u001b[0m\u001b[1;33m:\u001b[0m\u001b[1;33m\u001b[0m\u001b[1;33m\u001b[0m\u001b[0m\n\u001b[1;32m--> 621\u001b[1;33m                 \u001b[1;32mraise\u001b[0m \u001b[0mKeyError\u001b[0m\u001b[1;33m(\u001b[0m\u001b[0mgpr\u001b[0m\u001b[1;33m)\u001b[0m\u001b[1;33m\u001b[0m\u001b[1;33m\u001b[0m\u001b[0m\n\u001b[0m\u001b[0;32m    622\u001b[0m         \u001b[1;32melif\u001b[0m \u001b[0misinstance\u001b[0m\u001b[1;33m(\u001b[0m\u001b[0mgpr\u001b[0m\u001b[1;33m,\u001b[0m \u001b[0mGrouper\u001b[0m\u001b[1;33m)\u001b[0m \u001b[1;32mand\u001b[0m \u001b[0mgpr\u001b[0m\u001b[1;33m.\u001b[0m\u001b[0mkey\u001b[0m \u001b[1;32mis\u001b[0m \u001b[1;32mnot\u001b[0m \u001b[1;32mNone\u001b[0m\u001b[1;33m:\u001b[0m\u001b[1;33m\u001b[0m\u001b[1;33m\u001b[0m\u001b[0m\n\u001b[0;32m    623\u001b[0m             \u001b[1;31m# Add key to exclusions\u001b[0m\u001b[1;33m\u001b[0m\u001b[1;33m\u001b[0m\u001b[1;33m\u001b[0m\u001b[0m\n",
      "\u001b[1;31mKeyError\u001b[0m: 'Temp Range'"
     ]
    }
   ],
   "source": [
    "##standardize data for seasons\n",
    "CStemp_Plot = summer1C.groupby('Temp Range').count()\n",
    "CFtemp_Plot = fall1C.groupby('Temp Range').count()\n",
    "CSptemp_Plot = spring1C.groupby('Temp Range').count()\n",
    "\n",
    "# #bar chart crime and traffic by wind\n",
    "# fig, ax = plt.subplots()\n",
    "# bar_width = 0.35\n",
    "# opacity = 0.8\n",
    "\n",
    "# crime = plt.bar(CStemp_Plot.index, CStemp_Plot, bar_width,\n",
    "# alpha=opacity,\n",
    "# color='b',\n",
    "# label='Crime')\n",
    "\n",
    "# traffic = plt.bar(Twind_stand.index, Twind_stand, bar_width,\n",
    "# alpha=opacity,\n",
    "# color='g',\n",
    "# label='Traffic')\n",
    "\n",
    "# plt.xlabel('Wind Speeds mph')\n",
    "# plt.ylabel('Standardized Scores')\n",
    "# plt.title('Crime and Traffic by Wind Speed')\n",
    "# plt.xticks(rotation = '45')\n",
    "# plt.legend()\n",
    "\n",
    "# plt.tight_layout()\n",
    "# plt.show()\n",
    "\n",
    "# #save fig to png\n",
    "# plt.savefig(\"crime and traffic wind.png\")\n",
    "\n",
    "crime = plt.plot(CStemp_Plot.index, CStemp_Plot)"
   ]
  },
  {
   "cell_type": "code",
   "execution_count": null,
   "metadata": {},
   "outputs": [],
   "source": []
  }
 ],
 "metadata": {
  "kernelspec": {
   "display_name": "Python 3",
   "language": "python",
   "name": "python3"
  },
  "language_info": {
   "codemirror_mode": {
    "name": "ipython",
    "version": 3
   },
   "file_extension": ".py",
   "mimetype": "text/x-python",
   "name": "python",
   "nbconvert_exporter": "python",
   "pygments_lexer": "ipython3",
   "version": "3.6.9"
  }
 },
 "nbformat": 4,
 "nbformat_minor": 2
}
