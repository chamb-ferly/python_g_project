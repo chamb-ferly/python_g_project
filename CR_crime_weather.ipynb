{
 "cells": [
  {
   "cell_type": "code",
   "execution_count": 43,
   "metadata": {},
   "outputs": [],
   "source": [
    "import pandas as pd\n",
    "from citipy import citipy\n",
    "import numpy as np\n",
    "import csv\n",
    "from datetime import datetime as dt, timedelta\n",
    "import json\n",
    "from pandas.io.json import json_normalize\n",
    "\n",
    "#import data\n",
    "weather = pd.read_json(\"ow.json\") #1/1/2013-1/1/2020 hourly weather data\n",
    "crime = pd.read_csv(\"crime.csv\")"
   ]
  },
  {
   "cell_type": "code",
   "execution_count": 2,
   "metadata": {},
   "outputs": [],
   "source": [
    "drop_list = ['GEO_X', 'GEO_Y', 'DISTRICT_ID', \n",
    "             'REPORTED_DATE', 'LAST_OCCURRENCE_DATE',\n",
    "            'INCIDENT_ID', 'OFFENSE_ID', 'OFFENSE_CODE_EXTENSION']\n",
    "crime.drop(columns=drop_list, inplace=True)\n",
    "\n"
   ]
  },
  {
   "cell_type": "code",
   "execution_count": 3,
   "metadata": {},
   "outputs": [],
   "source": [
    "crime = crime.rename(columns = {'OFFENSE_CODE':'Code', \n",
    "                               'OFFENSE_TYPE_ID':'Offense_Type', \n",
    "                               'INCIDENT_ADDRESS':'Address', \n",
    "                               'GEO_LON':'Lon',\n",
    "                               'GEO_LAT':'Lat', \n",
    "                               'PRECINCT_ID':'Precint', \n",
    "                               'NEIGHBORHOOD_ID':'Neighborhood'})"
   ]
  },
  {
   "cell_type": "code",
   "execution_count": 4,
   "metadata": {},
   "outputs": [],
   "source": [
    "#expand list from columns into new databases\n",
    "weather_temp = (json_normalize(weather['main']))\n",
    "weather_wind = json_normalize(weather['wind'])\n",
    "weather_clouds = json_normalize(weather['clouds'])\n"
   ]
  },
  {
   "cell_type": "code",
   "execution_count": 5,
   "metadata": {},
   "outputs": [],
   "source": [
    "#create new columns for desired fields from expanded list\n",
    "weather_temp.head()\n",
    "weather['Temp'] = weather_temp['temp']\n",
    "weather['Temp Max'] = weather_temp['temp_max']\n",
    "weather['Wind'] = weather_wind.speed\n",
    "weather['Clouds'] = weather_clouds\n",
    "#split date iso into columns, then delete unwanted columns \n",
    "weather[['Date','Hour', 'Trash', 'Trash2']] = weather.dt_iso.str.split(expand=True)\n",
    "columns = ['wind', 'clouds', 'weather','main', 'timezone', 'snow', 'rain', 'dt', 'Trash', 'Trash2', 'dt_iso', 'lat', 'lon']\n",
    "weather.drop(columns=columns, inplace=True)\n"
   ]
  },
  {
   "cell_type": "code",
   "execution_count": 6,
   "metadata": {},
   "outputs": [],
   "source": [
    "#create dataframe for speends over 40mph \n",
    "wind_df = weather.loc[weather.Wind > 40]\n",
    "wind_df\n",
    "weather['Date & Time'] = weather['Date'] + ' ' + weather['Hour']\n",
    "weather['Date & Time'] = weather['Date & Time'].astype('datetime64[ns]')\n",
    "weather = weather.drop(columns =['Date', 'Hour'])\n"
   ]
  },
  {
   "cell_type": "code",
   "execution_count": 7,
   "metadata": {},
   "outputs": [],
   "source": [
    "#create dataframe for temps under 10f \n",
    "cold_df = weather.loc[weather['Temp Max'] < 10]\n"
   ]
  },
  {
   "cell_type": "code",
   "execution_count": 8,
   "metadata": {},
   "outputs": [],
   "source": [
    "crime['Date'] = pd.to_datetime(crime['FIRST_OCCURRENCE_DATE'])\n"
   ]
  },
  {
   "cell_type": "code",
   "execution_count": 9,
   "metadata": {},
   "outputs": [],
   "source": [
    "crime.head()\n",
    "crime.drop(columns=['FIRST_OCCURRENCE_DATE'], inplace=True)"
   ]
  },
  {
   "cell_type": "code",
   "execution_count": 23,
   "metadata": {},
   "outputs": [],
   "source": [
    "# df = pd.DataFrame([{'old_column':pd.Timestamp('2015-07-18 13:53:33.280')}])\n",
    "crime['Date'] = crime['Date'].dt.round('60min')"
   ]
  },
  {
   "cell_type": "code",
   "execution_count": 24,
   "metadata": {},
   "outputs": [],
   "source": [
    "weather.head()\n",
    "weather = weather.rename(columns = {'Date & Time':'Date'})"
   ]
  },
  {
   "cell_type": "code",
   "execution_count": 12,
   "metadata": {},
   "outputs": [],
   "source": [
    "# remove incorrect lat longs skewing data\n",
    "crime = crime[crime[\"Lon\"] <= -104.2]\n",
    "crime = crime[crime[\"Lon\"] >= -105.5]\n",
    "crime = crime[crime[\"Lat\"] >= 39.5]\n",
    "crime = crime[crime[\"Lat\"] <= 40.0]\n",
    "\n",
    "crime_weather = pd.merge(crime, weather, on='Date', how='left')\n"
   ]
  },
  {
   "cell_type": "code",
   "execution_count": 13,
   "metadata": {},
   "outputs": [],
   "source": [
    "crime_weather.to_csv('crime_weather.csv')"
   ]
  },
  {
   "cell_type": "markdown",
   "metadata": {},
   "source": [
    "# What crime occurs the most in cold, warm, and hot temperatures?"
   ]
  },
  {
   "cell_type": "code",
   "execution_count": 33,
   "metadata": {},
   "outputs": [],
   "source": [
    "cw_path = pd.read_csv('crime_weather.csv')\n",
    "cw_orig = pd.DataFrame(cw_path)"
   ]
  },
  {
   "cell_type": "code",
   "execution_count": 34,
   "metadata": {},
   "outputs": [
    {
     "data": {
      "text/html": [
       "<div>\n",
       "<style scoped>\n",
       "    .dataframe tbody tr th:only-of-type {\n",
       "        vertical-align: middle;\n",
       "    }\n",
       "\n",
       "    .dataframe tbody tr th {\n",
       "        vertical-align: top;\n",
       "    }\n",
       "\n",
       "    .dataframe thead th {\n",
       "        text-align: right;\n",
       "    }\n",
       "</style>\n",
       "<table border=\"1\" class=\"dataframe\">\n",
       "  <thead>\n",
       "    <tr style=\"text-align: right;\">\n",
       "      <th></th>\n",
       "      <th>Unnamed: 0</th>\n",
       "      <th>Code</th>\n",
       "      <th>Offense_Type</th>\n",
       "      <th>OFFENSE_CATEGORY_ID</th>\n",
       "      <th>Address</th>\n",
       "      <th>Lon</th>\n",
       "      <th>Lat</th>\n",
       "      <th>Precint</th>\n",
       "      <th>Neighborhood</th>\n",
       "      <th>IS_CRIME</th>\n",
       "      <th>IS_TRAFFIC</th>\n",
       "      <th>Date</th>\n",
       "      <th>city_name</th>\n",
       "      <th>Temp</th>\n",
       "      <th>Temp Max</th>\n",
       "      <th>Wind</th>\n",
       "      <th>Clouds</th>\n",
       "      <th>Temp Range</th>\n",
       "    </tr>\n",
       "  </thead>\n",
       "  <tbody>\n",
       "    <tr>\n",
       "      <td>0</td>\n",
       "      <td>0</td>\n",
       "      <td>5213</td>\n",
       "      <td>weapon-unlawful-discharge-of</td>\n",
       "      <td>all-other-crimes</td>\n",
       "      <td>NaN</td>\n",
       "      <td>-104.809881</td>\n",
       "      <td>39.773188</td>\n",
       "      <td>521</td>\n",
       "      <td>montbello</td>\n",
       "      <td>1</td>\n",
       "      <td>0</td>\n",
       "      <td>2016-06-16 00:00:00</td>\n",
       "      <td>Denver</td>\n",
       "      <td>89.69</td>\n",
       "      <td>93.99</td>\n",
       "      <td>18.34</td>\n",
       "      <td>20.0</td>\n",
       "      <td>Hot</td>\n",
       "    </tr>\n",
       "    <tr>\n",
       "      <td>1</td>\n",
       "      <td>1</td>\n",
       "      <td>2399</td>\n",
       "      <td>theft-other</td>\n",
       "      <td>larceny</td>\n",
       "      <td>NaN</td>\n",
       "      <td>-104.781434</td>\n",
       "      <td>39.785649</td>\n",
       "      <td>522</td>\n",
       "      <td>gateway-green-valley-ranch</td>\n",
       "      <td>1</td>\n",
       "      <td>0</td>\n",
       "      <td>2017-10-11 12:00:00</td>\n",
       "      <td>Denver</td>\n",
       "      <td>40.77</td>\n",
       "      <td>41.00</td>\n",
       "      <td>4.70</td>\n",
       "      <td>1.0</td>\n",
       "      <td>Warm</td>\n",
       "    </tr>\n",
       "    <tr>\n",
       "      <td>2</td>\n",
       "      <td>2</td>\n",
       "      <td>2305</td>\n",
       "      <td>theft-items-from-vehicle</td>\n",
       "      <td>theft-from-motor-vehicle</td>\n",
       "      <td>2932 S JOSEPHINE ST</td>\n",
       "      <td>-104.957381</td>\n",
       "      <td>39.663490</td>\n",
       "      <td>314</td>\n",
       "      <td>wellshire</td>\n",
       "      <td>1</td>\n",
       "      <td>0</td>\n",
       "      <td>2016-03-04 20:00:00</td>\n",
       "      <td>Denver</td>\n",
       "      <td>55.90</td>\n",
       "      <td>57.20</td>\n",
       "      <td>11.41</td>\n",
       "      <td>75.0</td>\n",
       "      <td>Warm</td>\n",
       "    </tr>\n",
       "    <tr>\n",
       "      <td>3</td>\n",
       "      <td>3</td>\n",
       "      <td>2399</td>\n",
       "      <td>theft-other</td>\n",
       "      <td>larceny</td>\n",
       "      <td>705 S COLORADO BLVD</td>\n",
       "      <td>-104.941440</td>\n",
       "      <td>39.702698</td>\n",
       "      <td>312</td>\n",
       "      <td>belcaro</td>\n",
       "      <td>1</td>\n",
       "      <td>0</td>\n",
       "      <td>2018-01-30 19:00:00</td>\n",
       "      <td>Denver</td>\n",
       "      <td>57.88</td>\n",
       "      <td>62.60</td>\n",
       "      <td>19.69</td>\n",
       "      <td>75.0</td>\n",
       "      <td>Warm</td>\n",
       "    </tr>\n",
       "    <tr>\n",
       "      <td>4</td>\n",
       "      <td>4</td>\n",
       "      <td>2303</td>\n",
       "      <td>theft-shoplift</td>\n",
       "      <td>larceny</td>\n",
       "      <td>2810 E 1ST AVE</td>\n",
       "      <td>-104.955370</td>\n",
       "      <td>39.717107</td>\n",
       "      <td>311</td>\n",
       "      <td>cherry-creek</td>\n",
       "      <td>1</td>\n",
       "      <td>0</td>\n",
       "      <td>2017-06-22 21:00:00</td>\n",
       "      <td>Denver</td>\n",
       "      <td>79.86</td>\n",
       "      <td>84.38</td>\n",
       "      <td>19.69</td>\n",
       "      <td>75.0</td>\n",
       "      <td>Hot</td>\n",
       "    </tr>\n",
       "  </tbody>\n",
       "</table>\n",
       "</div>"
      ],
      "text/plain": [
       "   Unnamed: 0  Code                  Offense_Type       OFFENSE_CATEGORY_ID  \\\n",
       "0           0  5213  weapon-unlawful-discharge-of          all-other-crimes   \n",
       "1           1  2399                   theft-other                   larceny   \n",
       "2           2  2305      theft-items-from-vehicle  theft-from-motor-vehicle   \n",
       "3           3  2399                   theft-other                   larceny   \n",
       "4           4  2303                theft-shoplift                   larceny   \n",
       "\n",
       "               Address         Lon        Lat  Precint  \\\n",
       "0                  NaN -104.809881  39.773188      521   \n",
       "1                  NaN -104.781434  39.785649      522   \n",
       "2  2932 S JOSEPHINE ST -104.957381  39.663490      314   \n",
       "3  705 S COLORADO BLVD -104.941440  39.702698      312   \n",
       "4       2810 E 1ST AVE -104.955370  39.717107      311   \n",
       "\n",
       "                 Neighborhood  IS_CRIME  IS_TRAFFIC                 Date  \\\n",
       "0                   montbello         1           0  2016-06-16 00:00:00   \n",
       "1  gateway-green-valley-ranch         1           0  2017-10-11 12:00:00   \n",
       "2                   wellshire         1           0  2016-03-04 20:00:00   \n",
       "3                     belcaro         1           0  2018-01-30 19:00:00   \n",
       "4                cherry-creek         1           0  2017-06-22 21:00:00   \n",
       "\n",
       "  city_name   Temp  Temp Max   Wind  Clouds Temp Range  \n",
       "0    Denver  89.69     93.99  18.34    20.0        Hot  \n",
       "1    Denver  40.77     41.00   4.70     1.0       Warm  \n",
       "2    Denver  55.90     57.20  11.41    75.0       Warm  \n",
       "3    Denver  57.88     62.60  19.69    75.0       Warm  \n",
       "4    Denver  79.86     84.38  19.69    75.0        Hot  "
      ]
     },
     "execution_count": 34,
     "metadata": {},
     "output_type": "execute_result"
    }
   ],
   "source": [
    "# bin by temperature ranges\n",
    "bins = [-50, 10, 40, 70, 100, 150]\n",
    "temp_names = [\"Really Cold\",\"Cold\",\"Warm\",\"Hot\",\"Really Hot\"]\n",
    "cw_orig[\"Temp Range\"] = pd.cut(cw_orig['Temp'], bins, labels=temp_names)\n",
    "cw_orig.head()"
   ]
  },
  {
   "cell_type": "code",
   "execution_count": 46,
   "metadata": {},
   "outputs": [],
   "source": [
    "# filter out traffic violations\n",
    "iscrime_df = cw_orig[cw_orig['IS_CRIME']==1]\n",
    "crime_temp = iscrime_df[['OFFENSE_CATEGORY_ID','IS_CRIME','Temp Range']]"
   ]
  },
  {
   "cell_type": "code",
   "execution_count": 47,
   "metadata": {},
   "outputs": [
    {
     "data": {
      "text/html": [
       "<div>\n",
       "<style scoped>\n",
       "    .dataframe tbody tr th:only-of-type {\n",
       "        vertical-align: middle;\n",
       "    }\n",
       "\n",
       "    .dataframe tbody tr th {\n",
       "        vertical-align: top;\n",
       "    }\n",
       "\n",
       "    .dataframe thead tr th {\n",
       "        text-align: left;\n",
       "    }\n",
       "\n",
       "    .dataframe thead tr:last-of-type th {\n",
       "        text-align: right;\n",
       "    }\n",
       "</style>\n",
       "<table border=\"1\" class=\"dataframe\">\n",
       "  <thead>\n",
       "    <tr>\n",
       "      <th></th>\n",
       "      <th colspan=\"13\" halign=\"left\">IS_CRIME</th>\n",
       "    </tr>\n",
       "    <tr>\n",
       "      <th>OFFENSE_CATEGORY_ID</th>\n",
       "      <th>aggravated-assault</th>\n",
       "      <th>all-other-crimes</th>\n",
       "      <th>arson</th>\n",
       "      <th>auto-theft</th>\n",
       "      <th>burglary</th>\n",
       "      <th>drug-alcohol</th>\n",
       "      <th>larceny</th>\n",
       "      <th>murder</th>\n",
       "      <th>other-crimes-against-persons</th>\n",
       "      <th>public-disorder</th>\n",
       "      <th>robbery</th>\n",
       "      <th>theft-from-motor-vehicle</th>\n",
       "      <th>white-collar-crime</th>\n",
       "    </tr>\n",
       "    <tr>\n",
       "      <th>Temp Range</th>\n",
       "      <th></th>\n",
       "      <th></th>\n",
       "      <th></th>\n",
       "      <th></th>\n",
       "      <th></th>\n",
       "      <th></th>\n",
       "      <th></th>\n",
       "      <th></th>\n",
       "      <th></th>\n",
       "      <th></th>\n",
       "      <th></th>\n",
       "      <th></th>\n",
       "      <th></th>\n",
       "    </tr>\n",
       "  </thead>\n",
       "  <tbody>\n",
       "    <tr>\n",
       "      <td>Really Cold</td>\n",
       "      <td>77</td>\n",
       "      <td>578</td>\n",
       "      <td>4</td>\n",
       "      <td>246</td>\n",
       "      <td>152</td>\n",
       "      <td>171</td>\n",
       "      <td>390</td>\n",
       "      <td>4</td>\n",
       "      <td>168</td>\n",
       "      <td>293</td>\n",
       "      <td>38</td>\n",
       "      <td>260</td>\n",
       "      <td>81</td>\n",
       "    </tr>\n",
       "    <tr>\n",
       "      <td>Cold</td>\n",
       "      <td>2386</td>\n",
       "      <td>20167</td>\n",
       "      <td>121</td>\n",
       "      <td>6276</td>\n",
       "      <td>5522</td>\n",
       "      <td>6997</td>\n",
       "      <td>11962</td>\n",
       "      <td>56</td>\n",
       "      <td>5367</td>\n",
       "      <td>10770</td>\n",
       "      <td>1316</td>\n",
       "      <td>8727</td>\n",
       "      <td>1956</td>\n",
       "    </tr>\n",
       "    <tr>\n",
       "      <td>Warm</td>\n",
       "      <td>5500</td>\n",
       "      <td>42450</td>\n",
       "      <td>270</td>\n",
       "      <td>12509</td>\n",
       "      <td>11568</td>\n",
       "      <td>15442</td>\n",
       "      <td>24127</td>\n",
       "      <td>145</td>\n",
       "      <td>11354</td>\n",
       "      <td>23920</td>\n",
       "      <td>3026</td>\n",
       "      <td>18443</td>\n",
       "      <td>3391</td>\n",
       "    </tr>\n",
       "    <tr>\n",
       "      <td>Hot</td>\n",
       "      <td>3236</td>\n",
       "      <td>18462</td>\n",
       "      <td>147</td>\n",
       "      <td>6532</td>\n",
       "      <td>4856</td>\n",
       "      <td>6506</td>\n",
       "      <td>9434</td>\n",
       "      <td>90</td>\n",
       "      <td>5654</td>\n",
       "      <td>11068</td>\n",
       "      <td>1585</td>\n",
       "      <td>8957</td>\n",
       "      <td>931</td>\n",
       "    </tr>\n",
       "  </tbody>\n",
       "</table>\n",
       "</div>"
      ],
      "text/plain": [
       "                              IS_CRIME                                    \\\n",
       "OFFENSE_CATEGORY_ID aggravated-assault all-other-crimes arson auto-theft   \n",
       "Temp Range                                                                 \n",
       "Really Cold                         77              578     4        246   \n",
       "Cold                              2386            20167   121       6276   \n",
       "Warm                              5500            42450   270      12509   \n",
       "Hot                               3236            18462   147       6532   \n",
       "\n",
       "                                                          \\\n",
       "OFFENSE_CATEGORY_ID burglary drug-alcohol larceny murder   \n",
       "Temp Range                                                 \n",
       "Really Cold              152          171     390      4   \n",
       "Cold                    5522         6997   11962     56   \n",
       "Warm                   11568        15442   24127    145   \n",
       "Hot                     4856         6506    9434     90   \n",
       "\n",
       "                                                                          \\\n",
       "OFFENSE_CATEGORY_ID other-crimes-against-persons public-disorder robbery   \n",
       "Temp Range                                                                 \n",
       "Really Cold                                  168             293      38   \n",
       "Cold                                        5367           10770    1316   \n",
       "Warm                                       11354           23920    3026   \n",
       "Hot                                         5654           11068    1585   \n",
       "\n",
       "                                                                 \n",
       "OFFENSE_CATEGORY_ID theft-from-motor-vehicle white-collar-crime  \n",
       "Temp Range                                                       \n",
       "Really Cold                              260                 81  \n",
       "Cold                                    8727               1956  \n",
       "Warm                                   18443               3391  \n",
       "Hot                                     8957                931  "
      ]
     },
     "execution_count": 47,
     "metadata": {},
     "output_type": "execute_result"
    }
   ],
   "source": [
    "pivot_df = crime_temp.pivot_table(crime_temp, index='Temp Range', columns='OFFENSE_CATEGORY_ID', \n",
    "                                  aggfunc='count')\n",
    "pivot_df"
   ]
  },
  {
   "cell_type": "code",
   "execution_count": 54,
   "metadata": {},
   "outputs": [
    {
     "data": {
      "image/png": "[encoded data removed]",
      "text/plain": [
       "<Figure size 1080x504 with 1 Axes>"
      ]
     },
     "metadata": {
      "needs_background": "light"
     },
     "output_type": "display_data"
    }
   ],
   "source": [
    "# stacked bar chart\n",
    "colors = ['lightcoral','chocolate','orange','gold','yellowgreen','darkseagreen','limegreen','turquoise','teal','skyblue',\n",
    "          'slategrey','mediumpurple','hotpink']\n",
    "pivot_df.plot.bar(stacked=True, color=colors, figsize=(15,7))\n",
    "plt.ylabel(\"Count of Occurrences\")\n",
    "plt.title(\"Type of Crime Occurrences by Weather\")\n",
    "plt.show()"
   ]
  },
  {
   "cell_type": "code",
   "execution_count": 56,
   "metadata": {},
   "outputs": [
    {
     "data": {
      "text/plain": [
       "Series([], Name: Offense_Type, dtype: int64)"
      ]
     },
     "execution_count": 56,
     "metadata": {},
     "output_type": "execute_result"
    }
   ],
   "source": [
    "# Burglary\n",
    "burg = cw_orig[cw_orig['OFFENSE_CATEGORY_ID']=='bulgary']\n",
    "burg_df = pd.DataFrame(burg)\n",
    "burg_df['Offense_Type'].value_counts()"
   ]
  },
  {
   "cell_type": "code",
   "execution_count": null,
   "metadata": {},
   "outputs": [],
   "source": []
  }
 ],
 "metadata": {
  "kernelspec": {
   "display_name": "Python 3",
   "language": "python",
   "name": "python3"
  },
  "language_info": {
   "codemirror_mode": {
    "name": "ipython",
    "version": 3
   },
   "file_extension": ".py",
   "mimetype": "text/x-python",
   "name": "python",
   "nbconvert_exporter": "python",
   "pygments_lexer": "ipython3",
   "version": "3.7.4"
  }
 },
 "nbformat": 4,
 "nbformat_minor": 2
}
