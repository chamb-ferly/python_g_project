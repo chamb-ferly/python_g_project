{
 "cells": [
  {
   "cell_type": "code",
   "execution_count": 25,
   "metadata": {
    "scrolled": true
   },
   "outputs": [],
   "source": [
    "import pandas as pd\n",
    "from citipy import citipy\n",
    "import numpy as np\n",
    "import csv\n",
    "from datetime import datetime as dt, timedelta, time, date\n",
    "import json\n",
    "from pandas.io.json import json_normalize\n",
    "import matplotlib.pyplot as plt\n",
    "import gmaps \n",
    "from config import gkey\n",
    "\n",
    "#import data\n",
    "weather = pd.read_json(\"ow.json\") #1/1/2013-1/1/2020 hourly weather data\n",
    "crime = pd.read_csv(\"crime.csv\")"
   ]
  },
  {
   "cell_type": "code",
   "execution_count": 26,
   "metadata": {},
   "outputs": [],
   "source": [
    "drop_list = ['GEO_X', 'GEO_Y', 'DISTRICT_ID', \n",
    "             'REPORTED_DATE', 'LAST_OCCURRENCE_DATE',\n",
    "            'INCIDENT_ID', 'OFFENSE_ID', 'OFFENSE_CODE_EXTENSION']\n",
    "crime.drop(columns=drop_list, inplace=True)"
   ]
  },
  {
   "cell_type": "code",
   "execution_count": 27,
   "metadata": {},
   "outputs": [],
   "source": [
    "crime = crime.rename(columns = {'OFFENSE_CODE':'Code', \n",
    "                               'OFFENSE_TYPE_ID':'Offense_Type', \n",
    "                               'INCIDENT_ADDRESS':'Address', \n",
    "                               'GEO_LON':'Lon',\n",
    "                               'GEO_LAT':'Lat', \n",
    "                               'PRECINCT_ID':'Precint', \n",
    "                               'NEIGHBORHOOD_ID':'Neighborhood'})"
   ]
  },
  {
   "cell_type": "code",
   "execution_count": 28,
   "metadata": {},
   "outputs": [],
   "source": [
    "#expand list from columns into new databases\n",
    "weather_temp = (json_normalize(weather['main']))\n",
    "weather_wind = json_normalize(weather['wind'])\n",
    "weather_clouds = json_normalize(weather['clouds'])"
   ]
  },
  {
   "cell_type": "code",
   "execution_count": 29,
   "metadata": {},
   "outputs": [],
   "source": [
    "#create new columns for desired fields from expanded list\n",
    "weather_temp.head()\n",
    "weather['Temp'] = weather_temp['temp']\n",
    "weather['Temp Max'] = weather_temp['temp_max']\n",
    "weather['Wind'] = weather_wind.speed\n",
    "weather['Clouds'] = weather_clouds\n",
    "#split date iso into columns, then delete unwanted columns \n",
    "weather[['Date','Hour', 'Trash', 'Trash2']] = weather.dt_iso.str.split(expand=True)\n",
    "columns = ['wind', 'clouds', 'weather','main', 'timezone', 'snow', 'rain', 'dt', 'Trash', 'Trash2', 'dt_iso', 'lat', 'lon']\n",
    "weather.drop(columns=columns, inplace=True)"
   ]
  },
  {
   "cell_type": "code",
   "execution_count": 30,
   "metadata": {},
   "outputs": [],
   "source": [
    "crime['Date'] = pd.to_datetime(crime['FIRST_OCCURRENCE_DATE'])"
   ]
  },
  {
   "cell_type": "code",
   "execution_count": 31,
   "metadata": {},
   "outputs": [],
   "source": [
    "crime.head()\n",
    "crime.drop(columns=['FIRST_OCCURRENCE_DATE'], inplace=True)"
   ]
  },
  {
   "cell_type": "code",
   "execution_count": 32,
   "metadata": {},
   "outputs": [],
   "source": [
    "# df = pd.DataFrame([{'old_column':pd.Timestamp('2015-07-18 13:53:33.280')}])\n",
    "crime['Date'] = crime['Date'].dt.round('60min')"
   ]
  },
  {
   "cell_type": "code",
   "execution_count": 33,
   "metadata": {},
   "outputs": [],
   "source": [
    "weather.head()\n",
    "weather = weather.rename(columns = {'Date & Time':'Date'})"
   ]
  },
  {
   "cell_type": "code",
   "execution_count": 34,
   "metadata": {},
   "outputs": [
    {
     "ename": "ValueError",
     "evalue": "You are trying to merge on datetime64[ns] and object columns. If you wish to proceed you should use pd.concat",
     "output_type": "error",
     "traceback": [
      "\u001b[1;31m---------------------------------------------------------------------------\u001b[0m",
      "\u001b[1;31mValueError\u001b[0m                                Traceback (most recent call last)",
      "\u001b[1;32m<ipython-input-34-db7a7a35b559>\u001b[0m in \u001b[0;36m<module>\u001b[1;34m\u001b[0m\n\u001b[0;32m      5\u001b[0m \u001b[0mcrime\u001b[0m \u001b[1;33m=\u001b[0m \u001b[0mcrime\u001b[0m\u001b[1;33m[\u001b[0m\u001b[0mcrime\u001b[0m\u001b[1;33m[\u001b[0m\u001b[1;34m\"Lat\"\u001b[0m\u001b[1;33m]\u001b[0m \u001b[1;33m<=\u001b[0m \u001b[1;36m40.0\u001b[0m\u001b[1;33m]\u001b[0m\u001b[1;33m\u001b[0m\u001b[1;33m\u001b[0m\u001b[0m\n\u001b[0;32m      6\u001b[0m \u001b[1;33m\u001b[0m\u001b[0m\n\u001b[1;32m----> 7\u001b[1;33m \u001b[0mcrime_weather\u001b[0m \u001b[1;33m=\u001b[0m \u001b[0mpd\u001b[0m\u001b[1;33m.\u001b[0m\u001b[0mmerge\u001b[0m\u001b[1;33m(\u001b[0m\u001b[0mcrime\u001b[0m\u001b[1;33m,\u001b[0m \u001b[0mweather\u001b[0m\u001b[1;33m,\u001b[0m \u001b[0mon\u001b[0m\u001b[1;33m=\u001b[0m\u001b[1;34m'Date'\u001b[0m\u001b[1;33m,\u001b[0m \u001b[0mhow\u001b[0m\u001b[1;33m=\u001b[0m\u001b[1;34m'left'\u001b[0m\u001b[1;33m)\u001b[0m\u001b[1;33m\u001b[0m\u001b[1;33m\u001b[0m\u001b[0m\n\u001b[0m",
      "\u001b[1;32m~\\Anaconda\\envs\\PythonData\\lib\\site-packages\\pandas\\core\\reshape\\merge.py\u001b[0m in \u001b[0;36mmerge\u001b[1;34m(left, right, how, on, left_on, right_on, left_index, right_index, sort, suffixes, copy, indicator, validate)\u001b[0m\n\u001b[0;32m     79\u001b[0m         \u001b[0mcopy\u001b[0m\u001b[1;33m=\u001b[0m\u001b[0mcopy\u001b[0m\u001b[1;33m,\u001b[0m\u001b[1;33m\u001b[0m\u001b[1;33m\u001b[0m\u001b[0m\n\u001b[0;32m     80\u001b[0m         \u001b[0mindicator\u001b[0m\u001b[1;33m=\u001b[0m\u001b[0mindicator\u001b[0m\u001b[1;33m,\u001b[0m\u001b[1;33m\u001b[0m\u001b[1;33m\u001b[0m\u001b[0m\n\u001b[1;32m---> 81\u001b[1;33m         \u001b[0mvalidate\u001b[0m\u001b[1;33m=\u001b[0m\u001b[0mvalidate\u001b[0m\u001b[1;33m,\u001b[0m\u001b[1;33m\u001b[0m\u001b[1;33m\u001b[0m\u001b[0m\n\u001b[0m\u001b[0;32m     82\u001b[0m     )\n\u001b[0;32m     83\u001b[0m     \u001b[1;32mreturn\u001b[0m \u001b[0mop\u001b[0m\u001b[1;33m.\u001b[0m\u001b[0mget_result\u001b[0m\u001b[1;33m(\u001b[0m\u001b[1;33m)\u001b[0m\u001b[1;33m\u001b[0m\u001b[1;33m\u001b[0m\u001b[0m\n",
      "\u001b[1;32m~\\Anaconda\\envs\\PythonData\\lib\\site-packages\\pandas\\core\\reshape\\merge.py\u001b[0m in \u001b[0;36m__init__\u001b[1;34m(self, left, right, how, on, left_on, right_on, axis, left_index, right_index, sort, suffixes, copy, indicator, validate)\u001b[0m\n\u001b[0;32m    628\u001b[0m         \u001b[1;31m# validate the merge keys dtypes. We may need to coerce\u001b[0m\u001b[1;33m\u001b[0m\u001b[1;33m\u001b[0m\u001b[1;33m\u001b[0m\u001b[0m\n\u001b[0;32m    629\u001b[0m         \u001b[1;31m# to avoid incompat dtypes\u001b[0m\u001b[1;33m\u001b[0m\u001b[1;33m\u001b[0m\u001b[1;33m\u001b[0m\u001b[0m\n\u001b[1;32m--> 630\u001b[1;33m         \u001b[0mself\u001b[0m\u001b[1;33m.\u001b[0m\u001b[0m_maybe_coerce_merge_keys\u001b[0m\u001b[1;33m(\u001b[0m\u001b[1;33m)\u001b[0m\u001b[1;33m\u001b[0m\u001b[1;33m\u001b[0m\u001b[0m\n\u001b[0m\u001b[0;32m    631\u001b[0m \u001b[1;33m\u001b[0m\u001b[0m\n\u001b[0;32m    632\u001b[0m         \u001b[1;31m# If argument passed to validate,\u001b[0m\u001b[1;33m\u001b[0m\u001b[1;33m\u001b[0m\u001b[1;33m\u001b[0m\u001b[0m\n",
      "\u001b[1;32m~\\Anaconda\\envs\\PythonData\\lib\\site-packages\\pandas\\core\\reshape\\merge.py\u001b[0m in \u001b[0;36m_maybe_coerce_merge_keys\u001b[1;34m(self)\u001b[0m\n\u001b[0;32m   1140\u001b[0m             \u001b[1;31m# datetimelikes must match exactly\u001b[0m\u001b[1;33m\u001b[0m\u001b[1;33m\u001b[0m\u001b[1;33m\u001b[0m\u001b[0m\n\u001b[0;32m   1141\u001b[0m             \u001b[1;32melif\u001b[0m \u001b[0mis_datetimelike\u001b[0m\u001b[1;33m(\u001b[0m\u001b[0mlk\u001b[0m\u001b[1;33m)\u001b[0m \u001b[1;32mand\u001b[0m \u001b[1;32mnot\u001b[0m \u001b[0mis_datetimelike\u001b[0m\u001b[1;33m(\u001b[0m\u001b[0mrk\u001b[0m\u001b[1;33m)\u001b[0m\u001b[1;33m:\u001b[0m\u001b[1;33m\u001b[0m\u001b[1;33m\u001b[0m\u001b[0m\n\u001b[1;32m-> 1142\u001b[1;33m                 \u001b[1;32mraise\u001b[0m \u001b[0mValueError\u001b[0m\u001b[1;33m(\u001b[0m\u001b[0mmsg\u001b[0m\u001b[1;33m)\u001b[0m\u001b[1;33m\u001b[0m\u001b[1;33m\u001b[0m\u001b[0m\n\u001b[0m\u001b[0;32m   1143\u001b[0m             \u001b[1;32melif\u001b[0m \u001b[1;32mnot\u001b[0m \u001b[0mis_datetimelike\u001b[0m\u001b[1;33m(\u001b[0m\u001b[0mlk\u001b[0m\u001b[1;33m)\u001b[0m \u001b[1;32mand\u001b[0m \u001b[0mis_datetimelike\u001b[0m\u001b[1;33m(\u001b[0m\u001b[0mrk\u001b[0m\u001b[1;33m)\u001b[0m\u001b[1;33m:\u001b[0m\u001b[1;33m\u001b[0m\u001b[1;33m\u001b[0m\u001b[0m\n\u001b[0;32m   1144\u001b[0m                 \u001b[1;32mraise\u001b[0m \u001b[0mValueError\u001b[0m\u001b[1;33m(\u001b[0m\u001b[0mmsg\u001b[0m\u001b[1;33m)\u001b[0m\u001b[1;33m\u001b[0m\u001b[1;33m\u001b[0m\u001b[0m\n",
      "\u001b[1;31mValueError\u001b[0m: You are trying to merge on datetime64[ns] and object columns. If you wish to proceed you should use pd.concat"
     ]
    }
   ],
   "source": [
    "# remove incorrect lat longs skewing data\n",
    "crime = crime[crime[\"Lon\"] <= -104.2]\n",
    "crime = crime[crime[\"Lon\"] >= -105.5]\n",
    "crime = crime[crime[\"Lat\"] >= 39.5]\n",
    "crime = crime[crime[\"Lat\"] <= 40.0]\n",
    "\n",
    "crime_weather = pd.merge(crime, weather, on='Date', how='left')\n"
   ]
  },
  {
   "cell_type": "code",
   "execution_count": null,
   "metadata": {},
   "outputs": [],
   "source": [
    "crime_weather.to_csv('crime_weather.csv')"
   ]
  },
  {
   "cell_type": "markdown",
   "metadata": {},
   "source": [
    "# What CRIME occurs the most in cold, warm, and hot temperatures?"
   ]
  },
  {
   "cell_type": "code",
   "execution_count": 35,
   "metadata": {},
   "outputs": [],
   "source": [
    "cw_path = pd.read_csv('crime_weather.csv')\n",
    "cw_orig = pd.DataFrame(cw_path)\n",
    "crime_weather = pd.read_csv('crime_weather.csv')"
   ]
  },
  {
   "cell_type": "code",
   "execution_count": 36,
   "metadata": {},
   "outputs": [
    {
     "data": {
      "text/html": [
       "<div>\n",
       "<style scoped>\n",
       "    .dataframe tbody tr th:only-of-type {\n",
       "        vertical-align: middle;\n",
       "    }\n",
       "\n",
       "    .dataframe tbody tr th {\n",
       "        vertical-align: top;\n",
       "    }\n",
       "\n",
       "    .dataframe thead th {\n",
       "        text-align: right;\n",
       "    }\n",
       "</style>\n",
       "<table border=\"1\" class=\"dataframe\">\n",
       "  <thead>\n",
       "    <tr style=\"text-align: right;\">\n",
       "      <th></th>\n",
       "      <th>Unnamed: 0</th>\n",
       "      <th>Code</th>\n",
       "      <th>Offense_Type</th>\n",
       "      <th>OFFENSE_CATEGORY_ID</th>\n",
       "      <th>Address</th>\n",
       "      <th>Lon</th>\n",
       "      <th>Lat</th>\n",
       "      <th>Precint</th>\n",
       "      <th>Neighborhood</th>\n",
       "      <th>IS_CRIME</th>\n",
       "      <th>IS_TRAFFIC</th>\n",
       "      <th>Date</th>\n",
       "      <th>city_name</th>\n",
       "      <th>Temp</th>\n",
       "      <th>Temp Max</th>\n",
       "      <th>Wind</th>\n",
       "      <th>Clouds</th>\n",
       "      <th>Temp Range</th>\n",
       "    </tr>\n",
       "  </thead>\n",
       "  <tbody>\n",
       "    <tr>\n",
       "      <td>0</td>\n",
       "      <td>1</td>\n",
       "      <td>2399</td>\n",
       "      <td>theft-other</td>\n",
       "      <td>Burglary/Theft</td>\n",
       "      <td>NaN</td>\n",
       "      <td>-104.781434</td>\n",
       "      <td>39.785649</td>\n",
       "      <td>522</td>\n",
       "      <td>gateway-green-valley-ranch</td>\n",
       "      <td>1</td>\n",
       "      <td>0</td>\n",
       "      <td>2017-10-11 12:00:00</td>\n",
       "      <td>Denver</td>\n",
       "      <td>40.77</td>\n",
       "      <td>41.00</td>\n",
       "      <td>4.70</td>\n",
       "      <td>1.0</td>\n",
       "      <td>Cold</td>\n",
       "    </tr>\n",
       "    <tr>\n",
       "      <td>1</td>\n",
       "      <td>2</td>\n",
       "      <td>2305</td>\n",
       "      <td>theft-items-from-vehicle</td>\n",
       "      <td>Burglary/Theft</td>\n",
       "      <td>2932 S JOSEPHINE ST</td>\n",
       "      <td>-104.957381</td>\n",
       "      <td>39.663490</td>\n",
       "      <td>314</td>\n",
       "      <td>wellshire</td>\n",
       "      <td>1</td>\n",
       "      <td>0</td>\n",
       "      <td>2016-03-04 20:00:00</td>\n",
       "      <td>Denver</td>\n",
       "      <td>55.90</td>\n",
       "      <td>57.20</td>\n",
       "      <td>11.41</td>\n",
       "      <td>75.0</td>\n",
       "      <td>Warm</td>\n",
       "    </tr>\n",
       "    <tr>\n",
       "      <td>2</td>\n",
       "      <td>3</td>\n",
       "      <td>2399</td>\n",
       "      <td>theft-other</td>\n",
       "      <td>Burglary/Theft</td>\n",
       "      <td>705 S COLORADO BLVD</td>\n",
       "      <td>-104.941440</td>\n",
       "      <td>39.702698</td>\n",
       "      <td>312</td>\n",
       "      <td>belcaro</td>\n",
       "      <td>1</td>\n",
       "      <td>0</td>\n",
       "      <td>2018-01-30 19:00:00</td>\n",
       "      <td>Denver</td>\n",
       "      <td>57.88</td>\n",
       "      <td>62.60</td>\n",
       "      <td>19.69</td>\n",
       "      <td>75.0</td>\n",
       "      <td>Warm</td>\n",
       "    </tr>\n",
       "    <tr>\n",
       "      <td>3</td>\n",
       "      <td>4</td>\n",
       "      <td>2303</td>\n",
       "      <td>theft-shoplift</td>\n",
       "      <td>Burglary/Theft</td>\n",
       "      <td>2810 E 1ST AVE</td>\n",
       "      <td>-104.955370</td>\n",
       "      <td>39.717107</td>\n",
       "      <td>311</td>\n",
       "      <td>cherry-creek</td>\n",
       "      <td>1</td>\n",
       "      <td>0</td>\n",
       "      <td>2017-06-22 21:00:00</td>\n",
       "      <td>Denver</td>\n",
       "      <td>79.86</td>\n",
       "      <td>84.38</td>\n",
       "      <td>19.69</td>\n",
       "      <td>75.0</td>\n",
       "      <td>Hot</td>\n",
       "    </tr>\n",
       "    <tr>\n",
       "      <td>4</td>\n",
       "      <td>6</td>\n",
       "      <td>2304</td>\n",
       "      <td>theft-parts-from-vehicle</td>\n",
       "      <td>Burglary/Theft</td>\n",
       "      <td>995 N FEDERAL BLVD</td>\n",
       "      <td>-105.025543</td>\n",
       "      <td>39.732790</td>\n",
       "      <td>122</td>\n",
       "      <td>villa-park</td>\n",
       "      <td>1</td>\n",
       "      <td>0</td>\n",
       "      <td>2017-06-01 12:00:00</td>\n",
       "      <td>Denver</td>\n",
       "      <td>51.96</td>\n",
       "      <td>53.60</td>\n",
       "      <td>5.82</td>\n",
       "      <td>40.0</td>\n",
       "      <td>Warm</td>\n",
       "    </tr>\n",
       "  </tbody>\n",
       "</table>\n",
       "</div>"
      ],
      "text/plain": [
       "   Unnamed: 0  Code              Offense_Type OFFENSE_CATEGORY_ID  \\\n",
       "0           1  2399               theft-other      Burglary/Theft   \n",
       "1           2  2305  theft-items-from-vehicle      Burglary/Theft   \n",
       "2           3  2399               theft-other      Burglary/Theft   \n",
       "3           4  2303            theft-shoplift      Burglary/Theft   \n",
       "4           6  2304  theft-parts-from-vehicle      Burglary/Theft   \n",
       "\n",
       "               Address         Lon        Lat  Precint  \\\n",
       "0                  NaN -104.781434  39.785649      522   \n",
       "1  2932 S JOSEPHINE ST -104.957381  39.663490      314   \n",
       "2  705 S COLORADO BLVD -104.941440  39.702698      312   \n",
       "3       2810 E 1ST AVE -104.955370  39.717107      311   \n",
       "4   995 N FEDERAL BLVD -105.025543  39.732790      122   \n",
       "\n",
       "                 Neighborhood  IS_CRIME  IS_TRAFFIC                 Date  \\\n",
       "0  gateway-green-valley-ranch         1           0  2017-10-11 12:00:00   \n",
       "1                   wellshire         1           0  2016-03-04 20:00:00   \n",
       "2                     belcaro         1           0  2018-01-30 19:00:00   \n",
       "3                cherry-creek         1           0  2017-06-22 21:00:00   \n",
       "4                  villa-park         1           0  2017-06-01 12:00:00   \n",
       "\n",
       "  city_name   Temp  Temp Max   Wind  Clouds Temp Range  \n",
       "0    Denver  40.77     41.00   4.70     1.0       Cold  \n",
       "1    Denver  55.90     57.20  11.41    75.0       Warm  \n",
       "2    Denver  57.88     62.60  19.69    75.0       Warm  \n",
       "3    Denver  79.86     84.38  19.69    75.0        Hot  \n",
       "4    Denver  51.96     53.60   5.82    40.0       Warm  "
      ]
     },
     "execution_count": 36,
     "metadata": {},
     "output_type": "execute_result"
    }
   ],
   "source": [
    "# bin by temperature ranges\n",
    "bins = [-50, 32, 50, 70, 120]\n",
    "temp_names = [\"Freezing\",\"Cold\",\"Warm\",\"Hot\"]\n",
    "cw_orig[\"Temp Range\"] = pd.cut(cw_orig['Temp'], bins, labels=temp_names)\n",
    "cw_orig.head()"
   ]
  },
  {
   "cell_type": "code",
   "execution_count": 37,
   "metadata": {},
   "outputs": [
    {
     "data": {
      "text/html": [
       "<div>\n",
       "<style scoped>\n",
       "    .dataframe tbody tr th:only-of-type {\n",
       "        vertical-align: middle;\n",
       "    }\n",
       "\n",
       "    .dataframe tbody tr th {\n",
       "        vertical-align: top;\n",
       "    }\n",
       "\n",
       "    .dataframe thead th {\n",
       "        text-align: right;\n",
       "    }\n",
       "</style>\n",
       "<table border=\"1\" class=\"dataframe\">\n",
       "  <thead>\n",
       "    <tr style=\"text-align: right;\">\n",
       "      <th></th>\n",
       "      <th>Unnamed: 0</th>\n",
       "      <th>Code</th>\n",
       "      <th>Offense_Type</th>\n",
       "      <th>OFFENSE_CATEGORY_ID</th>\n",
       "      <th>Address</th>\n",
       "      <th>Lon</th>\n",
       "      <th>Lat</th>\n",
       "      <th>Precint</th>\n",
       "      <th>Neighborhood</th>\n",
       "      <th>IS_CRIME</th>\n",
       "      <th>IS_TRAFFIC</th>\n",
       "      <th>Date</th>\n",
       "      <th>city_name</th>\n",
       "      <th>Temp</th>\n",
       "      <th>Temp Max</th>\n",
       "      <th>Wind</th>\n",
       "      <th>Clouds</th>\n",
       "      <th>Temp Range</th>\n",
       "    </tr>\n",
       "  </thead>\n",
       "  <tbody>\n",
       "    <tr>\n",
       "      <td>0</td>\n",
       "      <td>1</td>\n",
       "      <td>2399</td>\n",
       "      <td>theft-other</td>\n",
       "      <td>Burglary/Theft</td>\n",
       "      <td>NaN</td>\n",
       "      <td>-104.781434</td>\n",
       "      <td>39.785649</td>\n",
       "      <td>522</td>\n",
       "      <td>gateway-green-valley-ranch</td>\n",
       "      <td>1</td>\n",
       "      <td>0</td>\n",
       "      <td>2017-10-11 12:00:00</td>\n",
       "      <td>Denver</td>\n",
       "      <td>40.77</td>\n",
       "      <td>41.00</td>\n",
       "      <td>4.70</td>\n",
       "      <td>1.0</td>\n",
       "      <td>Cold</td>\n",
       "    </tr>\n",
       "    <tr>\n",
       "      <td>1</td>\n",
       "      <td>2</td>\n",
       "      <td>2305</td>\n",
       "      <td>theft-items-from-vehicle</td>\n",
       "      <td>Burglary/Theft</td>\n",
       "      <td>2932 S JOSEPHINE ST</td>\n",
       "      <td>-104.957381</td>\n",
       "      <td>39.663490</td>\n",
       "      <td>314</td>\n",
       "      <td>wellshire</td>\n",
       "      <td>1</td>\n",
       "      <td>0</td>\n",
       "      <td>2016-03-04 20:00:00</td>\n",
       "      <td>Denver</td>\n",
       "      <td>55.90</td>\n",
       "      <td>57.20</td>\n",
       "      <td>11.41</td>\n",
       "      <td>75.0</td>\n",
       "      <td>Warm</td>\n",
       "    </tr>\n",
       "    <tr>\n",
       "      <td>2</td>\n",
       "      <td>3</td>\n",
       "      <td>2399</td>\n",
       "      <td>theft-other</td>\n",
       "      <td>Burglary/Theft</td>\n",
       "      <td>705 S COLORADO BLVD</td>\n",
       "      <td>-104.941440</td>\n",
       "      <td>39.702698</td>\n",
       "      <td>312</td>\n",
       "      <td>belcaro</td>\n",
       "      <td>1</td>\n",
       "      <td>0</td>\n",
       "      <td>2018-01-30 19:00:00</td>\n",
       "      <td>Denver</td>\n",
       "      <td>57.88</td>\n",
       "      <td>62.60</td>\n",
       "      <td>19.69</td>\n",
       "      <td>75.0</td>\n",
       "      <td>Warm</td>\n",
       "    </tr>\n",
       "    <tr>\n",
       "      <td>3</td>\n",
       "      <td>4</td>\n",
       "      <td>2303</td>\n",
       "      <td>theft-shoplift</td>\n",
       "      <td>Burglary/Theft</td>\n",
       "      <td>2810 E 1ST AVE</td>\n",
       "      <td>-104.955370</td>\n",
       "      <td>39.717107</td>\n",
       "      <td>311</td>\n",
       "      <td>cherry-creek</td>\n",
       "      <td>1</td>\n",
       "      <td>0</td>\n",
       "      <td>2017-06-22 21:00:00</td>\n",
       "      <td>Denver</td>\n",
       "      <td>79.86</td>\n",
       "      <td>84.38</td>\n",
       "      <td>19.69</td>\n",
       "      <td>75.0</td>\n",
       "      <td>Hot</td>\n",
       "    </tr>\n",
       "    <tr>\n",
       "      <td>4</td>\n",
       "      <td>6</td>\n",
       "      <td>2304</td>\n",
       "      <td>theft-parts-from-vehicle</td>\n",
       "      <td>Burglary/Theft</td>\n",
       "      <td>995 N FEDERAL BLVD</td>\n",
       "      <td>-105.025543</td>\n",
       "      <td>39.732790</td>\n",
       "      <td>122</td>\n",
       "      <td>villa-park</td>\n",
       "      <td>1</td>\n",
       "      <td>0</td>\n",
       "      <td>2017-06-01 12:00:00</td>\n",
       "      <td>Denver</td>\n",
       "      <td>51.96</td>\n",
       "      <td>53.60</td>\n",
       "      <td>5.82</td>\n",
       "      <td>40.0</td>\n",
       "      <td>Warm</td>\n",
       "    </tr>\n",
       "  </tbody>\n",
       "</table>\n",
       "</div>"
      ],
      "text/plain": [
       "   Unnamed: 0  Code              Offense_Type OFFENSE_CATEGORY_ID  \\\n",
       "0           1  2399               theft-other      Burglary/Theft   \n",
       "1           2  2305  theft-items-from-vehicle      Burglary/Theft   \n",
       "2           3  2399               theft-other      Burglary/Theft   \n",
       "3           4  2303            theft-shoplift      Burglary/Theft   \n",
       "4           6  2304  theft-parts-from-vehicle      Burglary/Theft   \n",
       "\n",
       "               Address         Lon        Lat  Precint  \\\n",
       "0                  NaN -104.781434  39.785649      522   \n",
       "1  2932 S JOSEPHINE ST -104.957381  39.663490      314   \n",
       "2  705 S COLORADO BLVD -104.941440  39.702698      312   \n",
       "3       2810 E 1ST AVE -104.955370  39.717107      311   \n",
       "4   995 N FEDERAL BLVD -105.025543  39.732790      122   \n",
       "\n",
       "                 Neighborhood  IS_CRIME  IS_TRAFFIC                 Date  \\\n",
       "0  gateway-green-valley-ranch         1           0  2017-10-11 12:00:00   \n",
       "1                   wellshire         1           0  2016-03-04 20:00:00   \n",
       "2                     belcaro         1           0  2018-01-30 19:00:00   \n",
       "3                cherry-creek         1           0  2017-06-22 21:00:00   \n",
       "4                  villa-park         1           0  2017-06-01 12:00:00   \n",
       "\n",
       "  city_name   Temp  Temp Max   Wind  Clouds Temp Range  \n",
       "0    Denver  40.77     41.00   4.70     1.0       Cold  \n",
       "1    Denver  55.90     57.20  11.41    75.0       Warm  \n",
       "2    Denver  57.88     62.60  19.69    75.0       Warm  \n",
       "3    Denver  79.86     84.38  19.69    75.0        Hot  \n",
       "4    Denver  51.96     53.60   5.82    40.0       Warm  "
      ]
     },
     "execution_count": 37,
     "metadata": {},
     "output_type": "execute_result"
    }
   ],
   "source": [
    "# filter out traffic violations\n",
    "iscrime_df = cw_orig[cw_orig['IS_CRIME']==1]\n",
    "iscrime_df.head()"
   ]
  },
  {
   "cell_type": "code",
   "execution_count": 38,
   "metadata": {},
   "outputs": [
    {
     "data": {
      "text/html": [
       "<div>\n",
       "<style scoped>\n",
       "    .dataframe tbody tr th:only-of-type {\n",
       "        vertical-align: middle;\n",
       "    }\n",
       "\n",
       "    .dataframe tbody tr th {\n",
       "        vertical-align: top;\n",
       "    }\n",
       "\n",
       "    .dataframe thead tr th {\n",
       "        text-align: left;\n",
       "    }\n",
       "\n",
       "    .dataframe thead tr:last-of-type th {\n",
       "        text-align: right;\n",
       "    }\n",
       "</style>\n",
       "<table border=\"1\" class=\"dataframe\">\n",
       "  <thead>\n",
       "    <tr>\n",
       "      <th></th>\n",
       "      <th colspan=\"8\" halign=\"left\">IS_CRIME</th>\n",
       "    </tr>\n",
       "    <tr>\n",
       "      <th>OFFENSE_CATEGORY_ID</th>\n",
       "      <th>Aggravated Assault</th>\n",
       "      <th>Arson</th>\n",
       "      <th>Burglary/Theft</th>\n",
       "      <th>Crimes Against Persons</th>\n",
       "      <th>Drug/Alcohol</th>\n",
       "      <th>Murder</th>\n",
       "      <th>Public Disorder</th>\n",
       "      <th>White Collar Crime</th>\n",
       "    </tr>\n",
       "    <tr>\n",
       "      <th>Temp Range</th>\n",
       "      <th></th>\n",
       "      <th></th>\n",
       "      <th></th>\n",
       "      <th></th>\n",
       "      <th></th>\n",
       "      <th></th>\n",
       "      <th></th>\n",
       "      <th></th>\n",
       "    </tr>\n",
       "  </thead>\n",
       "  <tbody>\n",
       "    <tr>\n",
       "      <td>Freezing</td>\n",
       "      <td>1361</td>\n",
       "      <td>57</td>\n",
       "      <td>19517</td>\n",
       "      <td>3035</td>\n",
       "      <td>3821</td>\n",
       "      <td>31</td>\n",
       "      <td>6107</td>\n",
       "      <td>1172</td>\n",
       "    </tr>\n",
       "    <tr>\n",
       "      <td>Cold</td>\n",
       "      <td>2771</td>\n",
       "      <td>155</td>\n",
       "      <td>37467</td>\n",
       "      <td>6199</td>\n",
       "      <td>8207</td>\n",
       "      <td>61</td>\n",
       "      <td>12630</td>\n",
       "      <td>2014</td>\n",
       "    </tr>\n",
       "    <tr>\n",
       "      <td>Warm</td>\n",
       "      <td>3831</td>\n",
       "      <td>184</td>\n",
       "      <td>47563</td>\n",
       "      <td>7654</td>\n",
       "      <td>10582</td>\n",
       "      <td>113</td>\n",
       "      <td>16246</td>\n",
       "      <td>2238</td>\n",
       "    </tr>\n",
       "    <tr>\n",
       "      <td>Hot</td>\n",
       "      <td>3236</td>\n",
       "      <td>147</td>\n",
       "      <td>31363</td>\n",
       "      <td>5655</td>\n",
       "      <td>6506</td>\n",
       "      <td>90</td>\n",
       "      <td>11068</td>\n",
       "      <td>931</td>\n",
       "    </tr>\n",
       "  </tbody>\n",
       "</table>\n",
       "</div>"
      ],
      "text/plain": [
       "                              IS_CRIME                       \\\n",
       "OFFENSE_CATEGORY_ID Aggravated Assault Arson Burglary/Theft   \n",
       "Temp Range                                                    \n",
       "Freezing                          1361    57          19517   \n",
       "Cold                              2771   155          37467   \n",
       "Warm                              3831   184          47563   \n",
       "Hot                               3236   147          31363   \n",
       "\n",
       "                                                                \\\n",
       "OFFENSE_CATEGORY_ID Crimes Against Persons Drug/Alcohol Murder   \n",
       "Temp Range                                                       \n",
       "Freezing                              3035         3821     31   \n",
       "Cold                                  6199         8207     61   \n",
       "Warm                                  7654        10582    113   \n",
       "Hot                                   5655         6506     90   \n",
       "\n",
       "                                                        \n",
       "OFFENSE_CATEGORY_ID Public Disorder White Collar Crime  \n",
       "Temp Range                                              \n",
       "Freezing                       6107               1172  \n",
       "Cold                          12630               2014  \n",
       "Warm                          16246               2238  \n",
       "Hot                           11068                931  "
      ]
     },
     "execution_count": 38,
     "metadata": {},
     "output_type": "execute_result"
    }
   ],
   "source": [
    "# crime vs temp table \n",
    "crime_temp = iscrime_df[['OFFENSE_CATEGORY_ID','IS_CRIME','Temp Range']]\n",
    "pivot_df = crime_temp.pivot_table(crime_temp, index='Temp Range', columns='OFFENSE_CATEGORY_ID', \n",
    "                                  aggfunc='count')\n",
    "pivot_df"
   ]
  },
  {
   "cell_type": "code",
   "execution_count": 39,
   "metadata": {},
   "outputs": [
    {
     "data": {
      "image/png": "[encoded data removed]",
      "text/plain": [
       "<Figure size 1080x504 with 1 Axes>"
      ]
     },
     "metadata": {
      "needs_background": "light"
     },
     "output_type": "display_data"
    }
   ],
   "source": [
    "# stacked bar chart\n",
    "colors = ['lightcoral','chocolate','orange','gold','yellowgreen','darkseagreen','limegreen','turquoise','teal','skyblue',\n",
    "          'slategrey','mediumpurple','hotpink']\n",
    "pivot_df.plot.bar(stacked=True, color=colors, figsize=(15,7))\n",
    "plt.ylabel(\"Count of Occurrences\")\n",
    "plt.title(\"Type of Crime Occurrences by Weather\")\n",
    "plt.show()"
   ]
  },
  {
   "cell_type": "markdown",
   "metadata": {},
   "source": [
    "# What TRAFFIC VIOL occurs the most in cold, warm, and hot temperatures?"
   ]
  },
  {
   "cell_type": "code",
   "execution_count": 40,
   "metadata": {},
   "outputs": [
    {
     "data": {
      "text/html": [
       "<div>\n",
       "<style scoped>\n",
       "    .dataframe tbody tr th:only-of-type {\n",
       "        vertical-align: middle;\n",
       "    }\n",
       "\n",
       "    .dataframe tbody tr th {\n",
       "        vertical-align: top;\n",
       "    }\n",
       "\n",
       "    .dataframe thead th {\n",
       "        text-align: right;\n",
       "    }\n",
       "</style>\n",
       "<table border=\"1\" class=\"dataframe\">\n",
       "  <thead>\n",
       "    <tr style=\"text-align: right;\">\n",
       "      <th></th>\n",
       "      <th>Unnamed: 0</th>\n",
       "      <th>Code</th>\n",
       "      <th>Offense_Type</th>\n",
       "      <th>OFFENSE_CATEGORY_ID</th>\n",
       "      <th>Address</th>\n",
       "      <th>Lon</th>\n",
       "      <th>Lat</th>\n",
       "      <th>Precint</th>\n",
       "      <th>Neighborhood</th>\n",
       "      <th>IS_CRIME</th>\n",
       "      <th>IS_TRAFFIC</th>\n",
       "      <th>Date</th>\n",
       "      <th>city_name</th>\n",
       "      <th>Temp</th>\n",
       "      <th>Temp Max</th>\n",
       "      <th>Wind</th>\n",
       "      <th>Clouds</th>\n",
       "      <th>Temp Range</th>\n",
       "    </tr>\n",
       "  </thead>\n",
       "  <tbody>\n",
       "    <tr>\n",
       "      <td>5</td>\n",
       "      <td>8</td>\n",
       "      <td>5401</td>\n",
       "      <td>traffic-accident-hit-and-run</td>\n",
       "      <td>Traffic Accident</td>\n",
       "      <td>W 13TH AVE / N CHEROKEE ST</td>\n",
       "      <td>-104.991650</td>\n",
       "      <td>39.736863</td>\n",
       "      <td>611</td>\n",
       "      <td>civic-center</td>\n",
       "      <td>0</td>\n",
       "      <td>1</td>\n",
       "      <td>2018-01-30 09:00:00</td>\n",
       "      <td>Denver</td>\n",
       "      <td>44.94</td>\n",
       "      <td>53.60</td>\n",
       "      <td>12.75</td>\n",
       "      <td>75.0</td>\n",
       "      <td>Cold</td>\n",
       "    </tr>\n",
       "    <tr>\n",
       "      <td>15</td>\n",
       "      <td>19</td>\n",
       "      <td>5441</td>\n",
       "      <td>traffic-accident</td>\n",
       "      <td>Traffic Accident</td>\n",
       "      <td>N HAVANA ST / I70 HWYWB</td>\n",
       "      <td>-104.865745</td>\n",
       "      <td>39.775833</td>\n",
       "      <td>511</td>\n",
       "      <td>stapleton</td>\n",
       "      <td>0</td>\n",
       "      <td>1</td>\n",
       "      <td>2018-01-30 13:00:00</td>\n",
       "      <td>Denver</td>\n",
       "      <td>40.77</td>\n",
       "      <td>41.00</td>\n",
       "      <td>3.36</td>\n",
       "      <td>1.0</td>\n",
       "      <td>Cold</td>\n",
       "    </tr>\n",
       "    <tr>\n",
       "      <td>16</td>\n",
       "      <td>21</td>\n",
       "      <td>5441</td>\n",
       "      <td>traffic-accident</td>\n",
       "      <td>Traffic Accident</td>\n",
       "      <td>E LOWRY BLVD / N YOSEMITE WAY</td>\n",
       "      <td>-104.883908</td>\n",
       "      <td>39.723506</td>\n",
       "      <td>321</td>\n",
       "      <td>lowry-field</td>\n",
       "      <td>0</td>\n",
       "      <td>1</td>\n",
       "      <td>2018-01-29 14:00:00</td>\n",
       "      <td>Denver</td>\n",
       "      <td>28.92</td>\n",
       "      <td>30.20</td>\n",
       "      <td>9.17</td>\n",
       "      <td>40.0</td>\n",
       "      <td>Freezing</td>\n",
       "    </tr>\n",
       "    <tr>\n",
       "      <td>17</td>\n",
       "      <td>22</td>\n",
       "      <td>5401</td>\n",
       "      <td>traffic-accident-hit-and-run</td>\n",
       "      <td>Traffic Accident</td>\n",
       "      <td>29TH ST / WELTON ST</td>\n",
       "      <td>-104.975646</td>\n",
       "      <td>39.756668</td>\n",
       "      <td>211</td>\n",
       "      <td>five-points</td>\n",
       "      <td>0</td>\n",
       "      <td>1</td>\n",
       "      <td>2018-01-30 16:00:00</td>\n",
       "      <td>Denver</td>\n",
       "      <td>54.63</td>\n",
       "      <td>57.20</td>\n",
       "      <td>13.87</td>\n",
       "      <td>75.0</td>\n",
       "      <td>Warm</td>\n",
       "    </tr>\n",
       "    <tr>\n",
       "      <td>32</td>\n",
       "      <td>43</td>\n",
       "      <td>5441</td>\n",
       "      <td>traffic-accident</td>\n",
       "      <td>Traffic Accident</td>\n",
       "      <td>E 6TH AVE / N IVY LN</td>\n",
       "      <td>-104.920437</td>\n",
       "      <td>39.725338</td>\n",
       "      <td>321</td>\n",
       "      <td>hilltop</td>\n",
       "      <td>0</td>\n",
       "      <td>1</td>\n",
       "      <td>2018-01-30 17:00:00</td>\n",
       "      <td>Denver</td>\n",
       "      <td>51.85</td>\n",
       "      <td>51.98</td>\n",
       "      <td>16.11</td>\n",
       "      <td>75.0</td>\n",
       "      <td>Warm</td>\n",
       "    </tr>\n",
       "  </tbody>\n",
       "</table>\n",
       "</div>"
      ],
      "text/plain": [
       "    Unnamed: 0  Code                  Offense_Type OFFENSE_CATEGORY_ID  \\\n",
       "5            8  5401  traffic-accident-hit-and-run    Traffic Accident   \n",
       "15          19  5441              traffic-accident    Traffic Accident   \n",
       "16          21  5441              traffic-accident    Traffic Accident   \n",
       "17          22  5401  traffic-accident-hit-and-run    Traffic Accident   \n",
       "32          43  5441              traffic-accident    Traffic Accident   \n",
       "\n",
       "                          Address         Lon        Lat  Precint  \\\n",
       "5      W 13TH AVE / N CHEROKEE ST -104.991650  39.736863      611   \n",
       "15        N HAVANA ST / I70 HWYWB -104.865745  39.775833      511   \n",
       "16  E LOWRY BLVD / N YOSEMITE WAY -104.883908  39.723506      321   \n",
       "17            29TH ST / WELTON ST -104.975646  39.756668      211   \n",
       "32           E 6TH AVE / N IVY LN -104.920437  39.725338      321   \n",
       "\n",
       "    Neighborhood  IS_CRIME  IS_TRAFFIC                 Date city_name   Temp  \\\n",
       "5   civic-center         0           1  2018-01-30 09:00:00    Denver  44.94   \n",
       "15     stapleton         0           1  2018-01-30 13:00:00    Denver  40.77   \n",
       "16   lowry-field         0           1  2018-01-29 14:00:00    Denver  28.92   \n",
       "17   five-points         0           1  2018-01-30 16:00:00    Denver  54.63   \n",
       "32       hilltop         0           1  2018-01-30 17:00:00    Denver  51.85   \n",
       "\n",
       "    Temp Max   Wind  Clouds Temp Range  \n",
       "5      53.60  12.75    75.0       Cold  \n",
       "15     41.00   3.36     1.0       Cold  \n",
       "16     30.20   9.17    40.0   Freezing  \n",
       "17     57.20  13.87    75.0       Warm  \n",
       "32     51.98  16.11    75.0       Warm  "
      ]
     },
     "execution_count": 40,
     "metadata": {},
     "output_type": "execute_result"
    }
   ],
   "source": [
    "# filter out crime violations\n",
    "istraffic_df = cw_orig[cw_orig['IS_TRAFFIC']==1]\n",
    "istraffic_df.head()"
   ]
  },
  {
   "cell_type": "code",
   "execution_count": 41,
   "metadata": {},
   "outputs": [],
   "source": [
    "# traffic violation vs temp table \n",
    "traffic_temp = istraffic_df[['OFFENSE_CATEGORY_ID','IS_TRAFFIC','Temp Range']]\n",
    "traffic_pivot = traffic_temp.pivot_table(traffic_temp, index='Temp Range', columns='OFFENSE_CATEGORY_ID', \n",
    "                                  aggfunc='count')\n",
    "# stacked bar chart\n",
    "# traffic_pivot.plot.bar(stacked=True, color=colors, figsize=(15,7))\n",
    "# plt.ylabel(\"Count of Violations\")\n",
    "# plt.title(\"Type of Traffic Violations by Weather\")\n",
    "# plt.show()"
   ]
  },
  {
   "cell_type": "code",
   "execution_count": 42,
   "metadata": {},
   "outputs": [
    {
     "data": {
      "text/plain": [
       "Series([], Name: Offense_Type, dtype: int64)"
      ]
     },
     "execution_count": 42,
     "metadata": {},
     "output_type": "execute_result"
    }
   ],
   "source": [
    "traffic_type = istraffic_df[istraffic_df['OFFENSE_CATEGORY_ID']==\"traffic-accident\"]\n",
    "traffic_df = pd.DataFrame(traffic_type)\n",
    "traffic_df['Offense_Type'].value_counts()"
   ]
  },
  {
   "cell_type": "markdown",
   "metadata": {},
   "source": [
    "# Burglary Plot"
   ]
  },
  {
   "cell_type": "code",
   "execution_count": 43,
   "metadata": {},
   "outputs": [
    {
     "data": {
      "text/plain": [
       "Series([], Name: Offense_Type, dtype: int64)"
      ]
     },
     "execution_count": 43,
     "metadata": {},
     "output_type": "execute_result"
    }
   ],
   "source": [
    "burg = iscrime_df[iscrime_df['OFFENSE_CATEGORY_ID']==\"burglary\"]\n",
    "burg_df = pd.DataFrame(burg)\n",
    "burg_df['Offense_Type'].value_counts()"
   ]
  },
  {
   "cell_type": "code",
   "execution_count": 44,
   "metadata": {},
   "outputs": [
    {
     "data": {
      "text/plain": [
       "Series([], Name: Offense_Type, dtype: int64)"
      ]
     },
     "execution_count": 44,
     "metadata": {},
     "output_type": "execute_result"
    }
   ],
   "source": [
    "# Burglary\n",
    "burg = iscrime_df[iscrime_df['OFFENSE_CATEGORY_ID']==\"burglary\"]\n",
    "burg_df = pd.DataFrame(burg)\n",
    "burg_df['Offense_Type'].value_counts()"
   ]
  },
  {
   "cell_type": "code",
   "execution_count": 45,
   "metadata": {},
   "outputs": [
    {
     "ename": "TypeError",
     "evalue": "no numeric data to plot",
     "output_type": "error",
     "traceback": [
      "\u001b[1;31m---------------------------------------------------------------------------\u001b[0m",
      "\u001b[1;31mTypeError\u001b[0m                                 Traceback (most recent call last)",
      "\u001b[1;32m<ipython-input-45-7f9e4800b896>\u001b[0m in \u001b[0;36m<module>\u001b[1;34m\u001b[0m\n\u001b[0;32m      2\u001b[0m \u001b[0mburg_plot\u001b[0m \u001b[1;33m=\u001b[0m \u001b[0mburg_df\u001b[0m\u001b[1;33m[\u001b[0m\u001b[1;33m[\u001b[0m\u001b[1;34m'Offense_Type'\u001b[0m\u001b[1;33m,\u001b[0m\u001b[1;34m'IS_CRIME'\u001b[0m\u001b[1;33m,\u001b[0m\u001b[1;34m'Temp Range'\u001b[0m\u001b[1;33m]\u001b[0m\u001b[1;33m]\u001b[0m\u001b[1;33m\u001b[0m\u001b[1;33m\u001b[0m\u001b[0m\n\u001b[0;32m      3\u001b[0m \u001b[0mburg_pivot\u001b[0m \u001b[1;33m=\u001b[0m \u001b[0mburg_plot\u001b[0m\u001b[1;33m.\u001b[0m\u001b[0mpivot_table\u001b[0m\u001b[1;33m(\u001b[0m\u001b[0mburg_plot\u001b[0m\u001b[1;33m,\u001b[0m \u001b[0mindex\u001b[0m\u001b[1;33m=\u001b[0m\u001b[1;34m'Temp Range'\u001b[0m\u001b[1;33m,\u001b[0m \u001b[0mcolumns\u001b[0m\u001b[1;33m=\u001b[0m\u001b[1;34m'Offense_Type'\u001b[0m\u001b[1;33m,\u001b[0m \u001b[0maggfunc\u001b[0m\u001b[1;33m=\u001b[0m\u001b[1;34m'count'\u001b[0m\u001b[1;33m)\u001b[0m\u001b[1;33m\u001b[0m\u001b[1;33m\u001b[0m\u001b[0m\n\u001b[1;32m----> 4\u001b[1;33m \u001b[0mburg_pivot\u001b[0m\u001b[1;33m.\u001b[0m\u001b[0mplot\u001b[0m\u001b[1;33m.\u001b[0m\u001b[0mbar\u001b[0m\u001b[1;33m(\u001b[0m\u001b[0mstacked\u001b[0m\u001b[1;33m=\u001b[0m\u001b[1;32mTrue\u001b[0m\u001b[1;33m,\u001b[0m \u001b[0mcolor\u001b[0m\u001b[1;33m=\u001b[0m\u001b[0mcolors\u001b[0m\u001b[1;33m,\u001b[0m \u001b[0mfigsize\u001b[0m\u001b[1;33m=\u001b[0m\u001b[1;33m(\u001b[0m\u001b[1;36m15\u001b[0m\u001b[1;33m,\u001b[0m\u001b[1;36m7\u001b[0m\u001b[1;33m)\u001b[0m\u001b[1;33m)\u001b[0m\u001b[1;33m\u001b[0m\u001b[1;33m\u001b[0m\u001b[0m\n\u001b[0m\u001b[0;32m      5\u001b[0m \u001b[0mplt\u001b[0m\u001b[1;33m.\u001b[0m\u001b[0mylabel\u001b[0m\u001b[1;33m(\u001b[0m\u001b[1;34m\"Count of Occurrences\"\u001b[0m\u001b[1;33m)\u001b[0m\u001b[1;33m\u001b[0m\u001b[1;33m\u001b[0m\u001b[0m\n\u001b[0;32m      6\u001b[0m \u001b[0mplt\u001b[0m\u001b[1;33m.\u001b[0m\u001b[0mtitle\u001b[0m\u001b[1;33m(\u001b[0m\u001b[1;34m\"Type of Burglary Occurrences by Weather\"\u001b[0m\u001b[1;33m)\u001b[0m\u001b[1;33m\u001b[0m\u001b[1;33m\u001b[0m\u001b[0m\n",
      "\u001b[1;32m~\\Anaconda\\envs\\PythonData\\lib\\site-packages\\pandas\\plotting\\_core.py\u001b[0m in \u001b[0;36mbar\u001b[1;34m(self, x, y, **kwargs)\u001b[0m\n\u001b[0;32m    946\u001b[0m             \u001b[1;33m>>\u001b[0m\u001b[1;33m>\u001b[0m \u001b[0max\u001b[0m \u001b[1;33m=\u001b[0m \u001b[0mdf\u001b[0m\u001b[1;33m.\u001b[0m\u001b[0mplot\u001b[0m\u001b[1;33m.\u001b[0m\u001b[0mbar\u001b[0m\u001b[1;33m(\u001b[0m\u001b[0mx\u001b[0m\u001b[1;33m=\u001b[0m\u001b[1;34m'lifespan'\u001b[0m\u001b[1;33m,\u001b[0m \u001b[0mrot\u001b[0m\u001b[1;33m=\u001b[0m\u001b[1;36m0\u001b[0m\u001b[1;33m)\u001b[0m\u001b[1;33m\u001b[0m\u001b[1;33m\u001b[0m\u001b[0m\n\u001b[0;32m    947\u001b[0m         \"\"\"\n\u001b[1;32m--> 948\u001b[1;33m         \u001b[1;32mreturn\u001b[0m \u001b[0mself\u001b[0m\u001b[1;33m(\u001b[0m\u001b[0mkind\u001b[0m\u001b[1;33m=\u001b[0m\u001b[1;34m\"bar\"\u001b[0m\u001b[1;33m,\u001b[0m \u001b[0mx\u001b[0m\u001b[1;33m=\u001b[0m\u001b[0mx\u001b[0m\u001b[1;33m,\u001b[0m \u001b[0my\u001b[0m\u001b[1;33m=\u001b[0m\u001b[0my\u001b[0m\u001b[1;33m,\u001b[0m \u001b[1;33m**\u001b[0m\u001b[0mkwargs\u001b[0m\u001b[1;33m)\u001b[0m\u001b[1;33m\u001b[0m\u001b[1;33m\u001b[0m\u001b[0m\n\u001b[0m\u001b[0;32m    949\u001b[0m \u001b[1;33m\u001b[0m\u001b[0m\n\u001b[0;32m    950\u001b[0m     \u001b[1;32mdef\u001b[0m \u001b[0mbarh\u001b[0m\u001b[1;33m(\u001b[0m\u001b[0mself\u001b[0m\u001b[1;33m,\u001b[0m \u001b[0mx\u001b[0m\u001b[1;33m=\u001b[0m\u001b[1;32mNone\u001b[0m\u001b[1;33m,\u001b[0m \u001b[0my\u001b[0m\u001b[1;33m=\u001b[0m\u001b[1;32mNone\u001b[0m\u001b[1;33m,\u001b[0m \u001b[1;33m**\u001b[0m\u001b[0mkwargs\u001b[0m\u001b[1;33m)\u001b[0m\u001b[1;33m:\u001b[0m\u001b[1;33m\u001b[0m\u001b[1;33m\u001b[0m\u001b[0m\n",
      "\u001b[1;32m~\\Anaconda\\envs\\PythonData\\lib\\site-packages\\pandas\\plotting\\_core.py\u001b[0m in \u001b[0;36m__call__\u001b[1;34m(self, *args, **kwargs)\u001b[0m\n\u001b[0;32m    792\u001b[0m                     \u001b[0mdata\u001b[0m\u001b[1;33m.\u001b[0m\u001b[0mcolumns\u001b[0m \u001b[1;33m=\u001b[0m \u001b[0mlabel_name\u001b[0m\u001b[1;33m\u001b[0m\u001b[1;33m\u001b[0m\u001b[0m\n\u001b[0;32m    793\u001b[0m \u001b[1;33m\u001b[0m\u001b[0m\n\u001b[1;32m--> 794\u001b[1;33m         \u001b[1;32mreturn\u001b[0m \u001b[0mplot_backend\u001b[0m\u001b[1;33m.\u001b[0m\u001b[0mplot\u001b[0m\u001b[1;33m(\u001b[0m\u001b[0mdata\u001b[0m\u001b[1;33m,\u001b[0m \u001b[0mkind\u001b[0m\u001b[1;33m=\u001b[0m\u001b[0mkind\u001b[0m\u001b[1;33m,\u001b[0m \u001b[1;33m**\u001b[0m\u001b[0mkwargs\u001b[0m\u001b[1;33m)\u001b[0m\u001b[1;33m\u001b[0m\u001b[1;33m\u001b[0m\u001b[0m\n\u001b[0m\u001b[0;32m    795\u001b[0m \u001b[1;33m\u001b[0m\u001b[0m\n\u001b[0;32m    796\u001b[0m     \u001b[1;32mdef\u001b[0m \u001b[0mline\u001b[0m\u001b[1;33m(\u001b[0m\u001b[0mself\u001b[0m\u001b[1;33m,\u001b[0m \u001b[0mx\u001b[0m\u001b[1;33m=\u001b[0m\u001b[1;32mNone\u001b[0m\u001b[1;33m,\u001b[0m \u001b[0my\u001b[0m\u001b[1;33m=\u001b[0m\u001b[1;32mNone\u001b[0m\u001b[1;33m,\u001b[0m \u001b[1;33m**\u001b[0m\u001b[0mkwargs\u001b[0m\u001b[1;33m)\u001b[0m\u001b[1;33m:\u001b[0m\u001b[1;33m\u001b[0m\u001b[1;33m\u001b[0m\u001b[0m\n",
      "\u001b[1;32m~\\Anaconda\\envs\\PythonData\\lib\\site-packages\\pandas\\plotting\\_matplotlib\\__init__.py\u001b[0m in \u001b[0;36mplot\u001b[1;34m(data, kind, **kwargs)\u001b[0m\n\u001b[0;32m     60\u001b[0m             \u001b[0mkwargs\u001b[0m\u001b[1;33m[\u001b[0m\u001b[1;34m\"ax\"\u001b[0m\u001b[1;33m]\u001b[0m \u001b[1;33m=\u001b[0m \u001b[0mgetattr\u001b[0m\u001b[1;33m(\u001b[0m\u001b[0max\u001b[0m\u001b[1;33m,\u001b[0m \u001b[1;34m\"left_ax\"\u001b[0m\u001b[1;33m,\u001b[0m \u001b[0max\u001b[0m\u001b[1;33m)\u001b[0m\u001b[1;33m\u001b[0m\u001b[1;33m\u001b[0m\u001b[0m\n\u001b[0;32m     61\u001b[0m     \u001b[0mplot_obj\u001b[0m \u001b[1;33m=\u001b[0m \u001b[0mPLOT_CLASSES\u001b[0m\u001b[1;33m[\u001b[0m\u001b[0mkind\u001b[0m\u001b[1;33m]\u001b[0m\u001b[1;33m(\u001b[0m\u001b[0mdata\u001b[0m\u001b[1;33m,\u001b[0m \u001b[1;33m**\u001b[0m\u001b[0mkwargs\u001b[0m\u001b[1;33m)\u001b[0m\u001b[1;33m\u001b[0m\u001b[1;33m\u001b[0m\u001b[0m\n\u001b[1;32m---> 62\u001b[1;33m     \u001b[0mplot_obj\u001b[0m\u001b[1;33m.\u001b[0m\u001b[0mgenerate\u001b[0m\u001b[1;33m(\u001b[0m\u001b[1;33m)\u001b[0m\u001b[1;33m\u001b[0m\u001b[1;33m\u001b[0m\u001b[0m\n\u001b[0m\u001b[0;32m     63\u001b[0m     \u001b[0mplot_obj\u001b[0m\u001b[1;33m.\u001b[0m\u001b[0mdraw\u001b[0m\u001b[1;33m(\u001b[0m\u001b[1;33m)\u001b[0m\u001b[1;33m\u001b[0m\u001b[1;33m\u001b[0m\u001b[0m\n\u001b[0;32m     64\u001b[0m     \u001b[1;32mreturn\u001b[0m \u001b[0mplot_obj\u001b[0m\u001b[1;33m.\u001b[0m\u001b[0mresult\u001b[0m\u001b[1;33m\u001b[0m\u001b[1;33m\u001b[0m\u001b[0m\n",
      "\u001b[1;32m~\\Anaconda\\envs\\PythonData\\lib\\site-packages\\pandas\\plotting\\_matplotlib\\core.py\u001b[0m in \u001b[0;36mgenerate\u001b[1;34m(self)\u001b[0m\n\u001b[0;32m    277\u001b[0m     \u001b[1;32mdef\u001b[0m \u001b[0mgenerate\u001b[0m\u001b[1;33m(\u001b[0m\u001b[0mself\u001b[0m\u001b[1;33m)\u001b[0m\u001b[1;33m:\u001b[0m\u001b[1;33m\u001b[0m\u001b[1;33m\u001b[0m\u001b[0m\n\u001b[0;32m    278\u001b[0m         \u001b[0mself\u001b[0m\u001b[1;33m.\u001b[0m\u001b[0m_args_adjust\u001b[0m\u001b[1;33m(\u001b[0m\u001b[1;33m)\u001b[0m\u001b[1;33m\u001b[0m\u001b[1;33m\u001b[0m\u001b[0m\n\u001b[1;32m--> 279\u001b[1;33m         \u001b[0mself\u001b[0m\u001b[1;33m.\u001b[0m\u001b[0m_compute_plot_data\u001b[0m\u001b[1;33m(\u001b[0m\u001b[1;33m)\u001b[0m\u001b[1;33m\u001b[0m\u001b[1;33m\u001b[0m\u001b[0m\n\u001b[0m\u001b[0;32m    280\u001b[0m         \u001b[0mself\u001b[0m\u001b[1;33m.\u001b[0m\u001b[0m_setup_subplots\u001b[0m\u001b[1;33m(\u001b[0m\u001b[1;33m)\u001b[0m\u001b[1;33m\u001b[0m\u001b[1;33m\u001b[0m\u001b[0m\n\u001b[0;32m    281\u001b[0m         \u001b[0mself\u001b[0m\u001b[1;33m.\u001b[0m\u001b[0m_make_plot\u001b[0m\u001b[1;33m(\u001b[0m\u001b[1;33m)\u001b[0m\u001b[1;33m\u001b[0m\u001b[1;33m\u001b[0m\u001b[0m\n",
      "\u001b[1;32m~\\Anaconda\\envs\\PythonData\\lib\\site-packages\\pandas\\plotting\\_matplotlib\\core.py\u001b[0m in \u001b[0;36m_compute_plot_data\u001b[1;34m(self)\u001b[0m\n\u001b[0;32m    412\u001b[0m         \u001b[1;31m# no non-numeric frames or series allowed\u001b[0m\u001b[1;33m\u001b[0m\u001b[1;33m\u001b[0m\u001b[1;33m\u001b[0m\u001b[0m\n\u001b[0;32m    413\u001b[0m         \u001b[1;32mif\u001b[0m \u001b[0mis_empty\u001b[0m\u001b[1;33m:\u001b[0m\u001b[1;33m\u001b[0m\u001b[1;33m\u001b[0m\u001b[0m\n\u001b[1;32m--> 414\u001b[1;33m             \u001b[1;32mraise\u001b[0m \u001b[0mTypeError\u001b[0m\u001b[1;33m(\u001b[0m\u001b[1;34m\"no numeric data to plot\"\u001b[0m\u001b[1;33m)\u001b[0m\u001b[1;33m\u001b[0m\u001b[1;33m\u001b[0m\u001b[0m\n\u001b[0m\u001b[0;32m    415\u001b[0m \u001b[1;33m\u001b[0m\u001b[0m\n\u001b[0;32m    416\u001b[0m         \u001b[1;31m# GH25587: cast ExtensionArray of pandas (IntegerArray, etc.) to\u001b[0m\u001b[1;33m\u001b[0m\u001b[1;33m\u001b[0m\u001b[1;33m\u001b[0m\u001b[0m\n",
      "\u001b[1;31mTypeError\u001b[0m: no numeric data to plot"
     ]
    }
   ],
   "source": [
    "# stacked Burglary\n",
    "burg_plot = burg_df[['Offense_Type','IS_CRIME','Temp Range']]\n",
    "burg_pivot = burg_plot.pivot_table(burg_plot, index='Temp Range', columns='Offense_Type', aggfunc='count')\n",
    "burg_pivot.plot.bar(stacked=True, color=colors, figsize=(15,7))\n",
    "plt.ylabel(\"Count of Occurrences\")\n",
    "plt.title(\"Type of Burglary Occurrences by Weather\")\n",
    "plt.show()"
   ]
  },
  {
   "cell_type": "markdown",
   "metadata": {},
   "source": [
    "# Murder Plot"
   ]
  },
  {
   "cell_type": "code",
   "execution_count": null,
   "metadata": {},
   "outputs": [],
   "source": [
    "murder = iscrime_df[iscrime_df['OFFENSE_CATEGORY_ID']==\"murder\"]\n",
    "murder_df = pd.DataFrame(murder)\n",
    "murder_df['Offense_Type'].value_counts()"
   ]
  },
  {
   "cell_type": "code",
   "execution_count": null,
   "metadata": {},
   "outputs": [],
   "source": [
    "# stacked Drug-Alcohol\n",
    "murder_plot = murder_df[['Offense_Type','IS_CRIME','Temp Range']]\n",
    "murder_pivot = murder_plot.pivot_table(murder_plot, index='Temp Range', columns='Offense_Type', aggfunc='count')\n",
    "murder_pivot.plot.bar(stacked=True, color=colors, figsize=(15,7))\n",
    "plt.ylabel(\"Count of Occurrences\")\n",
    "plt.title(\"Type of Drug/Alcohol Occurrences by Weather\")\n",
    "plt.show()"
   ]
  },
  {
   "cell_type": "markdown",
   "metadata": {},
   "source": [
    "# Days per Weather "
   ]
  },
  {
   "cell_type": "code",
   "execution_count": null,
   "metadata": {},
   "outputs": [],
   "source": [
    "import datetime\n",
    "weather_days = cw_orig[['Date','Temp Range']]\n",
    "weather_daydf = pd.DataFrame(weather_days)\n",
    "weather_daydf['Dates'] = pd.to_datetime(weather_daydf['Date'],format='%Y%m%d')\n",
    "# weather_daydf['DateTime'] = pd.to_datetime(weather_daydf['Date'])\n",
    "# weather_daydf['DateOnly'] = datetime.date(weather_daydf['DateTime'],format='%Y%m%d',errors='coerce')\n",
    "#weather_days['Date Normalized'] = weather_days['Date'].dt.normalize(errors='coerce')"
   ]
  },
  {
   "cell_type": "code",
   "execution_count": 47,
   "metadata": {},
   "outputs": [],
   "source": [
    "#seperate data into crime dataframe and traffic datafram\n",
    "is_crime = crime_weather.loc[crime_weather['IS_CRIME'] == 1]\n",
    "is_traffic = crime_weather.loc[crime_weather['IS_TRAFFIC'] == 1]\n",
    "\n",
    "#drop dates from weather for before earliest crime data entry\n",
    "#use this dataframe to standardize data\n",
    "weather = weather.loc[weather['Date'] > '2015-01-02 00:00:00']"
   ]
  },
  {
   "cell_type": "code",
   "execution_count": 48,
   "metadata": {},
   "outputs": [
    {
     "name": "stderr",
     "output_type": "stream",
     "text": [
      "C:\\Users\\Deepak\\Anaconda\\envs\\PythonData\\lib\\site-packages\\ipykernel_launcher.py:4: SettingWithCopyWarning: \n",
      "A value is trying to be set on a copy of a slice from a DataFrame.\n",
      "Try using .loc[row_indexer,col_indexer] = value instead\n",
      "\n",
      "See the caveats in the documentation: http://pandas.pydata.org/pandas-docs/stable/user_guide/indexing.html#returning-a-view-versus-a-copy\n",
      "  after removing the cwd from sys.path.\n",
      "C:\\Users\\Deepak\\Anaconda\\envs\\PythonData\\lib\\site-packages\\ipykernel_launcher.py:5: SettingWithCopyWarning: \n",
      "A value is trying to be set on a copy of a slice from a DataFrame.\n",
      "Try using .loc[row_indexer,col_indexer] = value instead\n",
      "\n",
      "See the caveats in the documentation: http://pandas.pydata.org/pandas-docs/stable/user_guide/indexing.html#returning-a-view-versus-a-copy\n",
      "  \"\"\"\n",
      "C:\\Users\\Deepak\\Anaconda\\envs\\PythonData\\lib\\site-packages\\ipykernel_launcher.py:6: SettingWithCopyWarning: \n",
      "A value is trying to be set on a copy of a slice from a DataFrame.\n",
      "Try using .loc[row_indexer,col_indexer] = value instead\n",
      "\n",
      "See the caveats in the documentation: http://pandas.pydata.org/pandas-docs/stable/user_guide/indexing.html#returning-a-view-versus-a-copy\n",
      "  \n",
      "C:\\Users\\Deepak\\Anaconda\\envs\\PythonData\\lib\\site-packages\\ipykernel_launcher.py:12: SettingWithCopyWarning: \n",
      "A value is trying to be set on a copy of a slice from a DataFrame\n",
      "\n",
      "See the caveats in the documentation: http://pandas.pydata.org/pandas-docs/stable/user_guide/indexing.html#returning-a-view-versus-a-copy\n",
      "  if sys.path[0] == '':\n",
      "C:\\Users\\Deepak\\Anaconda\\envs\\PythonData\\lib\\site-packages\\ipykernel_launcher.py:13: SettingWithCopyWarning: \n",
      "A value is trying to be set on a copy of a slice from a DataFrame\n",
      "\n",
      "See the caveats in the documentation: http://pandas.pydata.org/pandas-docs/stable/user_guide/indexing.html#returning-a-view-versus-a-copy\n",
      "  del sys.path[0]\n"
     ]
    }
   ],
   "source": [
    "#bin crime, traffic and weather data \n",
    "bins = [-10, 0, 10, 20, 30, 40, 50, 60, 70, 80, 90, 100, 110]\n",
    "groups = ['-10-0', '0-10', '10-20', '20-30', '30-40', '40-50', '50-60', '60-70', '70-80', '80-90', '90-100', '100-110']\n",
    "is_crime['Temp Range'] = pd.cut(is_crime[\"Temp\"], bins, labels=groups)\n",
    "is_traffic['Temp Range'] = pd.cut(is_traffic[\"Temp\"], bins, labels=groups)\n",
    "weather['Temp Range'] = pd.cut(weather[\"Temp\"].round(), bins, labels=groups)\n",
    "\n",
    "#set new index and drop na\n",
    "is_crime.set_index('Temp Range', inplace=True)\n",
    "is_traffic.set_index('Temp Range', inplace=True)\n",
    "weather.set_index('Temp Range', inplace=True)\n",
    "weather.sort_index(inplace=True)\n",
    "weather.dropna(inplace=True)"
   ]
  },
  {
   "cell_type": "code",
   "execution_count": 49,
   "metadata": {},
   "outputs": [],
   "source": [
    "#groupby Neighborhood and set weight for heatmap = count of crimes within neighboorhood\n",
    "groupn_mean_df = crime_weather.groupby(\"Neighborhood\").mean()\n",
    "count  = crime_weather.groupby(\"Neighborhood\").count()['IS_CRIME'].astype(float)\n",
    "\n",
    "#set locations equal to neighborhood lat and lon\n",
    "locations = groupn_mean_df[[\"Lat\", \"Lon\"]].astype(float)"
   ]
  },
  {
   "cell_type": "code",
   "execution_count": 50,
   "metadata": {},
   "outputs": [
    {
     "data": {
      "application/vnd.jupyter.widget-view+json": {
       "model_id": "d57c58df6b984f23bdddd741402bcff1",
       "version_major": 2,
       "version_minor": 0
      },
      "text/plain": [
       "Figure(layout=FigureLayout(height='420px'))"
      ]
     },
     "metadata": {},
     "output_type": "display_data"
    }
   ],
   "source": [
    "#map crime in denver\n",
    "gmaps.configure(api_key=gkey)\n",
    "fig = gmaps.figure()\n",
    "heat_layer = gmaps.heatmap_layer(locations, weights=count, max_intensity=10000,\n",
    "                                 point_radius = 15)\n",
    "fig.add_layer(heat_layer)\n",
    "fig"
   ]
  },
  {
   "cell_type": "code",
   "execution_count": 51,
   "metadata": {},
   "outputs": [],
   "source": [
    "##standardize data \n",
    "\n",
    "Ctemp_Plot = is_crime.groupby('Temp Range').count()\n",
    "Ttemp_Plot = is_traffic.groupby('Temp Range').count()\n",
    "weather_Count = weather.groupby('Temp Range').count()\n",
    "#Ctemp_Plot = Ctemp_Plot.drop('100-110')\n",
    "#Ttemp_Plot = Ttemp_Plot.drop('100-110')\n",
    "Cstandardize = Ctemp_Plot['Code'] / weather_Count['Temp']\n",
    "Tstandardize = Ttemp_Plot['Code'] / weather_Count['Temp']"
   ]
  },
  {
   "cell_type": "code",
   "execution_count": 52,
   "metadata": {},
   "outputs": [
    {
     "data": {
      "image/png": "[encoded data removed]",
      "text/plain": [
       "<Figure size 432x288 with 1 Axes>"
      ]
     },
     "metadata": {
      "needs_background": "light"
     },
     "output_type": "display_data"
    },
    {
     "data": {
      "text/plain": [
       "<Figure size 432x288 with 0 Axes>"
      ]
     },
     "metadata": {},
     "output_type": "display_data"
    }
   ],
   "source": [
    "#create bar chart containing crime and traffic by temp\n",
    "fig, ax = plt.subplots()\n",
    "bar_width = 0.35\n",
    "opacity = 0.8\n",
    "\n",
    "crime = plt.bar(Cstandardize.index, Cstandardize, bar_width,\n",
    "alpha=opacity,\n",
    "color='b',\n",
    "label='Crime')\n",
    "\n",
    "traffic = plt.bar(Tstandardize.index, Tstandardize, bar_width,\n",
    "alpha=opacity,\n",
    "color='g',\n",
    "label='Traffic')\n",
    "\n",
    "plt.xlabel('Temp Range F')\n",
    "plt.ylabel('Standardized Scores')\n",
    "plt.title('Crime and Traffic by Temperature')\n",
    "plt.xticks(rotation = '45')\n",
    "plt.yticks(range(0,12))\n",
    "plt.legend(loc='upper left')\n",
    "\n",
    "plt.tight_layout()\n",
    "plt.show()\n",
    "\n",
    "#save to png\n",
    "plt.savefig(\"crime and traffic temp.png\")"
   ]
  },
  {
   "cell_type": "code",
   "execution_count": 53,
   "metadata": {},
   "outputs": [
    {
     "name": "stderr",
     "output_type": "stream",
     "text": [
      "C:\\Users\\Deepak\\Anaconda\\envs\\PythonData\\lib\\site-packages\\ipykernel_launcher.py:4: SettingWithCopyWarning: \n",
      "A value is trying to be set on a copy of a slice from a DataFrame.\n",
      "Try using .loc[row_indexer,col_indexer] = value instead\n",
      "\n",
      "See the caveats in the documentation: http://pandas.pydata.org/pandas-docs/stable/user_guide/indexing.html#returning-a-view-versus-a-copy\n",
      "  after removing the cwd from sys.path.\n",
      "C:\\Users\\Deepak\\Anaconda\\envs\\PythonData\\lib\\site-packages\\ipykernel_launcher.py:8: SettingWithCopyWarning: \n",
      "A value is trying to be set on a copy of a slice from a DataFrame.\n",
      "Try using .loc[row_indexer,col_indexer] = value instead\n",
      "\n",
      "See the caveats in the documentation: http://pandas.pydata.org/pandas-docs/stable/user_guide/indexing.html#returning-a-view-versus-a-copy\n",
      "  \n",
      "C:\\Users\\Deepak\\Anaconda\\envs\\PythonData\\lib\\site-packages\\ipykernel_launcher.py:12: SettingWithCopyWarning: \n",
      "A value is trying to be set on a copy of a slice from a DataFrame.\n",
      "Try using .loc[row_indexer,col_indexer] = value instead\n",
      "\n",
      "See the caveats in the documentation: http://pandas.pydata.org/pandas-docs/stable/user_guide/indexing.html#returning-a-view-versus-a-copy\n",
      "  if sys.path[0] == '':\n"
     ]
    }
   ],
   "source": [
    "#create bins for Wind Ranges for Weather, Crime and traffic databases\n",
    "bins = [0, 10, 20, 30, 40, 51]\n",
    "groups = ['0-10', '10-20', '20-30', '30-40', '40-50']\n",
    "is_crime['Wind Range'] = pd.cut(is_crime[\"Wind\"].round(), bins, labels=groups)\n",
    "\n",
    "bins = [0, 10, 20, 30, 40, 51]\n",
    "groups = ['0-10', '10-20', '20-30', '30-40', '40-50']\n",
    "is_traffic['Wind Range'] = pd.cut(is_traffic[\"Wind\"].round(), bins, labels=groups)\n",
    "\n",
    "bins = [0, 10, 20, 30, 40, 51]\n",
    "groups = ['0-10', '10-20', '20-30', '30-40', '40-50']\n",
    "weather['Wind Range'] = pd.cut(weather[\"Wind\"].round(), bins, labels=groups)\n"
   ]
  },
  {
   "cell_type": "code",
   "execution_count": 54,
   "metadata": {},
   "outputs": [],
   "source": [
    "#set new index to Wind Range\n",
    "is_crime = is_crime.set_index('Wind Range')\n",
    "weather = weather.set_index('Wind Range')\n",
    "is_traffic = is_traffic.set_index('Wind Range')"
   ]
  },
  {
   "cell_type": "code",
   "execution_count": 55,
   "metadata": {},
   "outputs": [],
   "source": [
    "#set variables and standardize data\n",
    "Cwind_Count = is_crime.groupby('Wind Range').count()\n",
    "Wwind_Count = weather.groupby('Wind Range').count()\n",
    "Cwind_stand = Cwind_Count['Temp'] / Wwind_Count['Temp']\n",
    "\n",
    "Twind_Count = is_traffic.groupby('Wind Range').count()\n",
    "Twind_stand = Twind_Count['Temp'] / Wwind_Count['Temp']"
   ]
  },
  {
   "cell_type": "code",
   "execution_count": 56,
   "metadata": {},
   "outputs": [
    {
     "data": {
      "image/png": "[encoded data removed]",
      "text/plain": [
       "<Figure size 432x288 with 1 Axes>"
      ]
     },
     "metadata": {
      "needs_background": "light"
     },
     "output_type": "display_data"
    },
    {
     "data": {
      "text/plain": [
       "<Figure size 432x288 with 0 Axes>"
      ]
     },
     "metadata": {},
     "output_type": "display_data"
    }
   ],
   "source": [
    "#bar chart crime and traffic by wind\n",
    "fig, ax = plt.subplots()\n",
    "bar_width = 0.35\n",
    "opacity = 0.8\n",
    "\n",
    "crime = plt.bar(Cwind_stand.index, Cwind_stand, bar_width,\n",
    "alpha=opacity,\n",
    "color='b',\n",
    "label='Crime')\n",
    "\n",
    "traffic = plt.bar(Twind_stand.index, Twind_stand, bar_width,\n",
    "alpha=opacity,\n",
    "color='g',\n",
    "label='Traffic')\n",
    "\n",
    "plt.xlabel('Wind Speeds mph')\n",
    "plt.ylabel('Standardized Scores')\n",
    "plt.title('Crime and Traffic by Wind Speed')\n",
    "plt.xticks(rotation = '45')\n",
    "plt.legend()\n",
    "\n",
    "plt.tight_layout()\n",
    "plt.show()\n",
    "\n",
    "#save fig to png\n",
    "plt.savefig(\"crime and traffic wind.png\")"
   ]
  },
  {
   "cell_type": "code",
   "execution_count": null,
   "metadata": {},
   "outputs": [],
   "source": []
  }
 ],
 "metadata": {
  "kernelspec": {
   "display_name": "Python 3",
   "language": "python",
   "name": "python3"
  },
  "language_info": {
   "codemirror_mode": {
    "name": "ipython",
    "version": 3
   },
   "file_extension": ".py",
   "mimetype": "text/x-python",
   "name": "python",
   "nbconvert_exporter": "python",
   "pygments_lexer": "ipython3",
   "version": "3.6.9"
  }
 },
 "nbformat": 4,
 "nbformat_minor": 2
}
